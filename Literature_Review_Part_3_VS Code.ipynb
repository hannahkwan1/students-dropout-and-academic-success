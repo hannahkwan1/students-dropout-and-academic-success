{
  "cells": [
    {
      "cell_type": "code",
      "execution_count": 7,
      "metadata": {
        "colab": {
          "base_uri": "https://localhost:8080/"
        },
        "id": "OqVWCP5vvdwj",
        "outputId": "5ce5f547-3b58-44b5-a8ea-59e092ccf690"
      },
      "outputs": [
        {
          "name": "stdout",
          "output_type": "stream",
          "text": [
            "Requirement already satisfied: ucimlrepo in c:\\users\\hanna\\appdata\\local\\packages\\pythonsoftwarefoundation.python.3.11_qbz5n2kfra8p0\\localcache\\local-packages\\python311\\site-packages (0.0.7)\n",
            "Requirement already satisfied: pandas>=1.0.0 in c:\\users\\hanna\\appdata\\local\\packages\\pythonsoftwarefoundation.python.3.11_qbz5n2kfra8p0\\localcache\\local-packages\\python311\\site-packages (from ucimlrepo) (2.3.0)\n",
            "Requirement already satisfied: certifi>=2020.12.5 in c:\\users\\hanna\\appdata\\local\\packages\\pythonsoftwarefoundation.python.3.11_qbz5n2kfra8p0\\localcache\\local-packages\\python311\\site-packages (from ucimlrepo) (2025.4.26)\n",
            "Requirement already satisfied: numpy>=1.23.2 in c:\\users\\hanna\\appdata\\local\\packages\\pythonsoftwarefoundation.python.3.11_qbz5n2kfra8p0\\localcache\\local-packages\\python311\\site-packages (from pandas>=1.0.0->ucimlrepo) (2.3.0)\n",
            "Requirement already satisfied: python-dateutil>=2.8.2 in c:\\users\\hanna\\appdata\\local\\packages\\pythonsoftwarefoundation.python.3.11_qbz5n2kfra8p0\\localcache\\local-packages\\python311\\site-packages (from pandas>=1.0.0->ucimlrepo) (2.9.0.post0)\n",
            "Requirement already satisfied: pytz>=2020.1 in c:\\users\\hanna\\appdata\\local\\packages\\pythonsoftwarefoundation.python.3.11_qbz5n2kfra8p0\\localcache\\local-packages\\python311\\site-packages (from pandas>=1.0.0->ucimlrepo) (2025.2)\n",
            "Requirement already satisfied: tzdata>=2022.7 in c:\\users\\hanna\\appdata\\local\\packages\\pythonsoftwarefoundation.python.3.11_qbz5n2kfra8p0\\localcache\\local-packages\\python311\\site-packages (from pandas>=1.0.0->ucimlrepo) (2025.2)\n",
            "Requirement already satisfied: six>=1.5 in c:\\users\\hanna\\appdata\\local\\packages\\pythonsoftwarefoundation.python.3.11_qbz5n2kfra8p0\\localcache\\local-packages\\python311\\site-packages (from python-dateutil>=2.8.2->pandas>=1.0.0->ucimlrepo) (1.17.0)\n",
            "Note: you may need to restart the kernel to use updated packages.\n"
          ]
        },
        {
          "name": "stderr",
          "output_type": "stream",
          "text": [
            "\n",
            "[notice] A new release of pip is available: 24.0 -> 25.1.1\n",
            "[notice] To update, run: C:\\Users\\hanna\\AppData\\Local\\Microsoft\\WindowsApps\\PythonSoftwareFoundation.Python.3.11_qbz5n2kfra8p0\\python.exe -m pip install --upgrade pip\n"
          ]
        }
      ],
      "source": [
        "pip install ucimlrepo"
      ]
    },
    {
      "cell_type": "code",
      "execution_count": 12,
      "metadata": {
        "colab": {
          "base_uri": "https://localhost:8080/"
        },
        "id": "UTLfnzL5vkU0",
        "outputId": "306bb09d-f6a2-4ac1-c468-04c09d77b0b1"
      },
      "outputs": [
        {
          "name": "stdout",
          "output_type": "stream",
          "text": [
            "Optimization terminated successfully.\n",
            "         Current function value: 0.560413\n",
            "         Iterations 5\n",
            "                           Logit Regression Results                           \n",
            "==============================================================================\n",
            "Dep. Variable:     Scholarship holder   No. Observations:                 4424\n",
            "Model:                          Logit   Df Residuals:                     4422\n",
            "Method:                           MLE   Df Model:                            1\n",
            "Date:                Sun, 08 Jun 2025   Pseudo R-squ.:               0.0003168\n",
            "Time:                        16:29:02   Log-Likelihood:                -2479.3\n",
            "converged:                       True   LL-Null:                       -2480.1\n",
            "Covariance Type:            nonrobust   LLR p-value:                    0.2100\n",
            "===================================================================================\n",
            "                      coef    std err          z      P>|z|      [0.025      0.975]\n",
            "-----------------------------------------------------------------------------------\n",
            "const              -1.4887      0.306     -4.861      0.000      -2.089      -0.888\n",
            "Admission grade     0.0030      0.002      1.256      0.209      -0.002       0.008\n",
            "===================================================================================\n"
          ]
        }
      ],
      "source": [
        "import pandas as pd\n",
        "import statsmodels.api as sm\n",
        "from ucimlrepo import fetch_ucirepo\n",
        "\n",
        "# Step 1: Load dataset\n",
        "dataset = fetch_ucirepo(id=697)\n",
        "df = dataset.data.original\n",
        "df.columns = df.columns.str.strip()  # Clean column names\n",
        "\n",
        "# Step 2: Filter relevant columns and drop missing\n",
        "df_filtered = df[['Scholarship holder', 'Admission grade']].dropna()\n",
        "\n",
        "# Step 3: Make sure target is numeric\n",
        "df_filtered['Scholarship holder'] = df_filtered['Scholarship holder'].astype(int)\n",
        "\n",
        "# Step 4: Add constant for statsmodels\n",
        "X = sm.add_constant(df_filtered['Admission grade'])  # Add intercept\n",
        "y = df_filtered['Scholarship holder']\n",
        "\n",
        "# Step 5: Run logistic regression\n",
        "model = sm.Logit(y, X)\n",
        "result = model.fit()\n",
        "\n",
        "# Step 6: Display regression summary\n",
        "print(result.summary())"
      ]
    },
    {
      "cell_type": "code",
      "execution_count": 5,
      "metadata": {
        "colab": {
          "base_uri": "https://localhost:8080/"
        },
        "id": "1eQf5xvvx0iw",
        "outputId": "d39f1f96-6105-450a-aeed-4402fb5d4478"
      },
      "outputs": [
        {
          "name": "stdout",
          "output_type": "stream",
          "text": [
            "Percentage of scholarship holders who dropped out: 12.19%\n"
          ]
        }
      ],
      "source": [
        "from ucimlrepo import fetch_ucirepo\n",
        "import pandas as pd\n",
        "\n",
        "# Load dataset\n",
        "dataset = fetch_ucirepo(id=697)\n",
        "df = dataset.data.original\n",
        "df.columns = df.columns.str.strip()\n",
        "\n",
        "# Drop rows with missing relevant values\n",
        "df = df.dropna(subset=['Scholarship holder', 'Target'])\n",
        "\n",
        "# Convert Scholarship holder to integer if needed\n",
        "df['Scholarship holder'] = df['Scholarship holder'].astype(int)\n",
        "\n",
        "# Filter scholarship holders\n",
        "scholarship_df = df[df['Scholarship holder'] == 1]\n",
        "\n",
        "# Count how many of them dropped out\n",
        "dropout_count = (scholarship_df['Target'] == 'Dropout').sum()\n",
        "total_scholarship = scholarship_df.shape[0]\n",
        "\n",
        "# Calculate percentage\n",
        "dropout_percentage = (dropout_count / total_scholarship) * 100\n",
        "\n",
        "print(f\"Percentage of scholarship holders who dropped out: {dropout_percentage:.2f}%\")\n",
        "\n",
        "#The percentage of scholarship holders being dropout students mean: The effectiveness of financial aid,\n",
        "\n",
        "#Whether scholarships are reaching at-risk students,\n",
        "\n",
        "#Or if additional support (e.g., mentoring, academic aid) is needed alongside scholarships.\n",
        "\n"
      ]
    },
    {
      "cell_type": "code",
      "execution_count": 6,
      "metadata": {
        "colab": {
          "base_uri": "https://localhost:8080/"
        },
        "id": "kRRNoKEw-MG6",
        "outputId": "bcead86c-886a-4f14-eeb2-425c98bdbf4e"
      },
      "outputs": [
        {
          "name": "stdout",
          "output_type": "stream",
          "text": [
            "Percentage of students who are scholarship recipients: 24.84%\n"
          ]
        }
      ],
      "source": [
        "from ucimlrepo import fetch_ucirepo\n",
        "import pandas as pd\n",
        "\n",
        "# Load dataset\n",
        "dataset = fetch_ucirepo(id=697)\n",
        "df = dataset.data.original\n",
        "df.columns = df.columns.str.strip()\n",
        "\n",
        "# Drop rows with missing Scholarship holder info\n",
        "df = df.dropna(subset=['Scholarship holder'])\n",
        "\n",
        "# Convert to integer\n",
        "df['Scholarship holder'] = df['Scholarship holder'].astype(int)\n",
        "\n",
        "# Total students and scholarship recipients\n",
        "total_students = df.shape[0]\n",
        "num_scholarship_recipients = (df['Scholarship holder'] == 1).sum()\n",
        "\n",
        "# Calculate percentage\n",
        "percentage = (num_scholarship_recipients / total_students) * 100\n",
        "\n",
        "print(f\"Percentage of students who are scholarship recipients: {percentage:.2f}%\")\n",
        "\n",
        "#=24.84%*12.19% = total 3% of students are dropped-out scholarship recipient"
      ]
    },
    {
      "cell_type": "code",
      "execution_count": 7,
      "metadata": {
        "colab": {
          "base_uri": "https://localhost:8080/"
        },
        "id": "g2QqbSqs_N3n",
        "outputId": "7ab88e48-c05b-4b92-9df1-6c431bb7eb8a"
      },
      "outputs": [
        {
          "name": "stdout",
          "output_type": "stream",
          "text": [
            "Percentage of dropout students with unpaid tuition: 32.16%\n"
          ]
        }
      ],
      "source": [
        "from ucimlrepo import fetch_ucirepo\n",
        "import pandas as pd\n",
        "\n",
        "# Load dataset\n",
        "dataset = fetch_ucirepo(id=697)\n",
        "df = dataset.data.original\n",
        "df.columns = df.columns.str.strip()\n",
        "\n",
        "# Drop rows with missing values in relevant columns\n",
        "df = df.dropna(subset=['Target', 'Tuition fees up to date'])\n",
        "\n",
        "# Filter for dropout students\n",
        "dropout_df = df[df['Target'] == 'Dropout']\n",
        "\n",
        "# Count those with tuition fees NOT up to date (i.e., = 0)\n",
        "not_paid_count = (dropout_df['Tuition fees up to date'] == 0).sum()\n",
        "total_dropout = dropout_df.shape[0]\n",
        "\n",
        "# Calculate percentage\n",
        "percentage = (not_paid_count / total_dropout) * 100\n",
        "\n",
        "print(f\"Percentage of dropout students with unpaid tuition: {percentage:.2f}%\")"
      ]
    },
    {
      "cell_type": "code",
      "execution_count": 8,
      "metadata": {
        "colab": {
          "base_uri": "https://localhost:8080/"
        },
        "id": "m5nOsTrI_s8t",
        "outputId": "49c553bd-5ef2-4729-fdf1-399d1c0d1ad8"
      },
      "outputs": [
        {
          "name": "stdout",
          "output_type": "stream",
          "text": [
            "Number of dropout students with unpaid tuition and scholarships: 28\n",
            "Percentage of dropout students in this group: 1.97%\n"
          ]
        }
      ],
      "source": [
        "from ucimlrepo import fetch_ucirepo\n",
        "import pandas as pd\n",
        "\n",
        "# Load dataset\n",
        "dataset = fetch_ucirepo(id=697)\n",
        "df = dataset.data.original\n",
        "df.columns = df.columns.str.strip()\n",
        "\n",
        "# Drop rows with missing data\n",
        "df = df.dropna(subset=['Target', 'Tuition fees up to date', 'Scholarship holder'])\n",
        "\n",
        "# Convert scholarship to integer\n",
        "df['Scholarship holder'] = df['Scholarship holder'].astype(int)\n",
        "\n",
        "# Filter for dropout students\n",
        "dropout_df = df[df['Target'] == 'Dropout']\n",
        "\n",
        "# Filter dropout students with tuition not up to date and scholarship\n",
        "condition = (dropout_df['Tuition fees up to date'] == 0) & (dropout_df['Scholarship holder'] == 1)\n",
        "count = condition.sum()\n",
        "total_dropout = dropout_df.shape[0]\n",
        "\n",
        "# Calculate percentage\n",
        "percentage = (count / total_dropout) * 100\n",
        "\n",
        "print(f\"Number of dropout students with unpaid tuition and scholarships: {count}\")\n",
        "print(f\"Percentage of dropout students in this group: {percentage:.2f}%\")"
      ]
    },
    {
      "cell_type": "code",
      "execution_count": 9,
      "metadata": {
        "colab": {
          "base_uri": "https://localhost:8080/"
        },
        "id": "uFZHpRsq_5Vt",
        "outputId": "96fb89a8-c7ad-4473-d5c7-ed94e41a4956"
      },
      "outputs": [
        {
          "name": "stdout",
          "output_type": "stream",
          "text": [
            "Total students: 4424\n",
            "Number of dropouts: 1421\n",
            "Dropout rate: 32.12%\n"
          ]
        }
      ],
      "source": [
        "from ucimlrepo import fetch_ucirepo\n",
        "import pandas as pd\n",
        "\n",
        "# Load dataset\n",
        "dataset = fetch_ucirepo(id=697)\n",
        "df = dataset.data.original\n",
        "df.columns = df.columns.str.strip()\n",
        "\n",
        "# Drop rows with missing 'Target'\n",
        "df = df.dropna(subset=['Target'])\n",
        "\n",
        "# Total number of students\n",
        "total_students = df.shape[0]\n",
        "\n",
        "# Number of dropouts\n",
        "num_dropouts = (df['Target'] == 'Dropout').sum()\n",
        "\n",
        "# Percentage calculation\n",
        "dropout_percentage = (num_dropouts / total_students) * 100\n",
        "\n",
        "print(f\"Total students: {total_students}\")\n",
        "print(f\"Number of dropouts: {num_dropouts}\")\n",
        "print(f\"Dropout rate: {dropout_percentage:.2f}%\")"
      ]
    }
  ],
  "metadata": {
    "colab": {
      "provenance": []
    },
    "kernelspec": {
      "display_name": "Python 3",
      "name": "python3"
    },
    "language_info": {
      "codemirror_mode": {
        "name": "ipython",
        "version": 3
      },
      "file_extension": ".py",
      "mimetype": "text/x-python",
      "name": "python",
      "nbconvert_exporter": "python",
      "pygments_lexer": "ipython3",
      "version": "3.11.9"
    }
  },
  "nbformat": 4,
  "nbformat_minor": 0
}
