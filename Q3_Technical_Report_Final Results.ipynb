{
  "cells": [
    {
      "cell_type": "code",
      "execution_count": 57,
      "metadata": {
        "colab": {
          "base_uri": "https://localhost:8080/"
        },
        "id": "OqVWCP5vvdwj",
        "outputId": "e1df17fe-c140-404c-8205-a427a56b5ca1"
      },
      "outputs": [
        {
          "name": "stdout",
          "output_type": "stream",
          "text": [
            "Requirement already satisfied: ucimlrepo in c:\\users\\hanna\\appdata\\local\\packages\\pythonsoftwarefoundation.python.3.11_qbz5n2kfra8p0\\localcache\\local-packages\\python311\\site-packages (0.0.7)\n",
            "Requirement already satisfied: pandas>=1.0.0 in c:\\users\\hanna\\appdata\\local\\packages\\pythonsoftwarefoundation.python.3.11_qbz5n2kfra8p0\\localcache\\local-packages\\python311\\site-packages (from ucimlrepo) (2.3.0)\n",
            "Requirement already satisfied: certifi>=2020.12.5 in c:\\users\\hanna\\appdata\\local\\packages\\pythonsoftwarefoundation.python.3.11_qbz5n2kfra8p0\\localcache\\local-packages\\python311\\site-packages (from ucimlrepo) (2025.4.26)\n",
            "Requirement already satisfied: numpy>=1.23.2 in c:\\users\\hanna\\appdata\\local\\packages\\pythonsoftwarefoundation.python.3.11_qbz5n2kfra8p0\\localcache\\local-packages\\python311\\site-packages (from pandas>=1.0.0->ucimlrepo) (2.3.0)\n",
            "Requirement already satisfied: python-dateutil>=2.8.2 in c:\\users\\hanna\\appdata\\local\\packages\\pythonsoftwarefoundation.python.3.11_qbz5n2kfra8p0\\localcache\\local-packages\\python311\\site-packages (from pandas>=1.0.0->ucimlrepo) (2.9.0.post0)\n",
            "Requirement already satisfied: pytz>=2020.1 in c:\\users\\hanna\\appdata\\local\\packages\\pythonsoftwarefoundation.python.3.11_qbz5n2kfra8p0\\localcache\\local-packages\\python311\\site-packages (from pandas>=1.0.0->ucimlrepo) (2025.2)\n",
            "Requirement already satisfied: tzdata>=2022.7 in c:\\users\\hanna\\appdata\\local\\packages\\pythonsoftwarefoundation.python.3.11_qbz5n2kfra8p0\\localcache\\local-packages\\python311\\site-packages (from pandas>=1.0.0->ucimlrepo) (2025.2)\n",
            "Requirement already satisfied: six>=1.5 in c:\\users\\hanna\\appdata\\local\\packages\\pythonsoftwarefoundation.python.3.11_qbz5n2kfra8p0\\localcache\\local-packages\\python311\\site-packages (from python-dateutil>=2.8.2->pandas>=1.0.0->ucimlrepo) (1.17.0)\n"
          ]
        },
        {
          "name": "stderr",
          "output_type": "stream",
          "text": [
            "\n",
            "[notice] A new release of pip is available: 24.0 -> 25.1.1\n",
            "[notice] To update, run: C:\\Users\\hanna\\AppData\\Local\\Microsoft\\WindowsApps\\PythonSoftwareFoundation.Python.3.11_qbz5n2kfra8p0\\python.exe -m pip install --upgrade pip\n"
          ]
        }
      ],
      "source": [
        "!pip install ucimlrepo"
      ]
    },
    {
      "cell_type": "code",
      "execution_count": 59,
      "metadata": {
        "colab": {
          "base_uri": "https://localhost:8080/"
        },
        "id": "UTLfnzL5vkU0",
        "outputId": "3b7bffc0-0664-459a-d2aa-35bd51603a76"
      },
      "outputs": [
        {
          "name": "stdout",
          "output_type": "stream",
          "text": [
            "Optimization terminated successfully.\n",
            "         Current function value: 0.560413\n",
            "         Iterations 5\n",
            "To investigate how Admission Grade affects the likelihood of being a Scholarship Holder\n",
            "\n",
            "                           Logit Regression Results                           \n",
            "==============================================================================\n",
            "Dep. Variable:     Scholarship holder   No. Observations:                 4424\n",
            "Model:                          Logit   Df Residuals:                     4422\n",
            "Method:                           MLE   Df Model:                            1\n",
            "Date:                Sun, 27 Jul 2025   Pseudo R-squ.:               0.0003168\n",
            "Time:                        00:20:08   Log-Likelihood:                -2479.3\n",
            "converged:                       True   LL-Null:                       -2480.1\n",
            "Covariance Type:            nonrobust   LLR p-value:                    0.2100\n",
            "===================================================================================\n",
            "                      coef    std err          z      P>|z|      [0.025      0.975]\n",
            "-----------------------------------------------------------------------------------\n",
            "const              -1.4887      0.306     -4.861      0.000      -2.089      -0.888\n",
            "Admission grade     0.0030      0.002      1.256      0.209      -0.002       0.008\n",
            "===================================================================================\n"
          ]
        }
      ],
      "source": [
        "# To investigate how Admission Grade affects the likelihood of being a Scholarship Holder \n",
        "\n",
        "import pandas as pd\n",
        "import statsmodels.api as sm\n",
        "from sklearn.preprocessing import LabelEncoder\n",
        "from ucimlrepo import fetch_ucirepo\n",
        "\n",
        "# Load dataset\n",
        "dataset = fetch_ucirepo(id=697)\n",
        "df = dataset.data.original\n",
        "df.columns = df.columns.str.strip()  # To clean column names by removing leading and trailing whitespace\n",
        "\n",
        "# Filter relevant columns \n",
        "df_filtered = df[['Scholarship holder', 'Admission grade']]\n",
        "\n",
        "# Add constant for statsmodels\n",
        "X = sm.add_constant(df_filtered['Admission grade'])  # Add a column of constant to Admission Grade so that the model can learn an intercept\n",
        "y = df_filtered['Scholarship holder']\n",
        "\n",
        "# Set up a logistic regression model:\n",
        "model = sm.Logit(y, X)\n",
        "result = model.fit() #Train the model to find the best coefficients that explain the relationship between admission grade and scholarship status\n",
        "\n",
        "# Display regression summary\n",
        "print(\"To investigate how Admission Grade affects the likelihood of being a Scholarship Holder\\n\")\n",
        "print(result.summary())\n",
        "\n",
        "#p-value of 0.209 indicates that the relationship between Admission Grade and Scholarship Holder is not statistically significant at the 0.05 level.\n",
        "# This suggests that Admission Grade does not have a strong influence on whether a student is a Scholarship Holder in this dataset. "
      ]
    },
    {
      "cell_type": "code",
      "execution_count": 62,
      "metadata": {},
      "outputs": [
        {
          "name": "stdout",
          "output_type": "stream",
          "text": [
            "Optimization terminated successfully.\n",
            "         Current function value: 0.351720\n",
            "         Iterations 6\n",
            "                           Logit Regression Results                           \n",
            "==============================================================================\n",
            "Dep. Variable:                 Debtor   No. Observations:                 4424\n",
            "Model:                          Logit   Df Residuals:                     4422\n",
            "Method:                           MLE   Df Model:                            1\n",
            "Date:                Sun, 27 Jul 2025   Pseudo R-squ.:                0.006939\n",
            "Time:                        00:21:51   Log-Likelihood:                -1556.0\n",
            "converged:                       True   LL-Null:                       -1566.9\n",
            "Covariance Type:            nonrobust   LLR p-value:                 3.114e-06\n",
            "======================================================================================\n",
            "                         coef    std err          z      P>|z|      [0.025      0.975]\n",
            "--------------------------------------------------------------------------------------\n",
            "const                 -1.9367      0.052    -37.061      0.000      -2.039      -1.834\n",
            "Scholarship holder    -0.5552      0.125     -4.442      0.000      -0.800      -0.310\n",
            "======================================================================================\n"
          ]
        }
      ],
      "source": [
        "# To investigate how Scholarship Holder affects the likelihood of being a Debtor\n",
        "\n",
        "# Filter relevant columns and drop missing values\n",
        "df_filtered = df[['Scholarship holder', 'Debtor']]\n",
        "\n",
        "# Add constant for statsmodels\n",
        "X = sm.add_constant(df_filtered['Scholarship holder'])  # Add intercept\n",
        "y = df_filtered['Debtor']\n",
        "\n",
        "# Run logistic regression\n",
        "model = sm.Logit(y, X)\n",
        "result = model.fit()\n",
        "\n",
        "# Display regression summary\n",
        "print(result.summary())\n",
        "\n",
        "# p-value of 0.000 indicates that the relationship between Scholarship Holder and Debtor is statistically significant at the 0.05 level.\n",
        "# This suggests that being a Scholarship Holder has a strong influence on whether a student is a Debtor in this dataset.\n",
        "# A negative coefficient for Scholarship Holder indicates that being a Scholarship Holder is associated with a lower likelihood of being a Debtor.\n",
        "# This means that students who are Scholarship Holders are less likely to have unpaid tuition fees compared to those who are not Scholarship Holders.   "
      ]
    },
    {
      "cell_type": "code",
      "execution_count": 64,
      "metadata": {
        "colab": {
          "base_uri": "https://localhost:8080/",
          "height": 660
        },
        "id": "k0SNLd4pidkF",
        "outputId": "85ed33af-e718-4671-ba66-2ac5b5ccd031"
      },
      "outputs": [
        {
          "data": {
            "image/png": "[encoded data removed]",
            "text/plain": [
              "<Figure size 800x600 with 1 Axes>"
            ]
          },
          "metadata": {},
          "output_type": "display_data"
        },
        {
          "name": "stdout",
          "output_type": "stream",
          "text": [
            "Percentage of each outcome by Debtor status:\n",
            "Target  Dropout  Enrolled  Graduate\n",
            "Debtor                             \n",
            "0         28.28     17.95     53.76\n",
            "1         62.03     17.89     20.08\n"
          ]
        }
      ],
      "source": [
        "## To visualize the distribution of the target variable by debtor status\n",
        "\n",
        "import matplotlib.pyplot as plt\n",
        "\n",
        "# Drop rows with missing values\n",
        "df_filtered = df.dropna(subset=['Debtor', 'Target'])\n",
        "\n",
        "# Count plot: How target variable is distributed within Debtor = 0 vs. Debtor = 1\n",
        "sns.set(style=\"whitegrid\")\n",
        "plt.figure(figsize=(8, 6))\n",
        "sns.countplot(data=df_filtered, x='Debtor', hue='Target') #Grouped bar plot that shows the count of observations for each category in 'Debtor' separated by the Target columns\n",
        "plt.title(\"Distribution of Target by Debtor Status\")\n",
        "plt.xlabel(\"Debtor (0 = No, 1 = Yes)\")\n",
        "plt.ylabel(\"Number of Students\")\n",
        "plt.legend(title=\"Student Status\")\n",
        "plt.show()\n",
        "\n",
        "# Calculate proportions\n",
        "cross_tab = pd.crosstab(df_filtered['Debtor'], df_filtered['Target'], normalize='index') * 100 # Normalize by index to get percentage of each outcome by Debtor status\n",
        "print(\"Percentage of each outcome by Debtor status:\")\n",
        "print(cross_tab.round(2))\n"
      ]
    },
    {
      "cell_type": "code",
      "execution_count": 65,
      "metadata": {
        "colab": {
          "base_uri": "https://localhost:8080/"
        },
        "id": "uFZHpRsq_5Vt",
        "outputId": "2f82346c-3035-47ec-f0ef-63bb8dc7db77"
      },
      "outputs": [
        {
          "name": "stdout",
          "output_type": "stream",
          "text": [
            "Total students: 4424\n",
            "Number of dropouts: 1421\n",
            "Dropout rate: 32.12%\n"
          ]
        }
      ],
      "source": [
        "# To calculate the dropout rate in the dataset\n",
        "\n",
        "# Drop rows with missing 'Target'\n",
        "df = df.dropna(subset=['Target'])\n",
        "\n",
        "# Total number of students\n",
        "total_students = df.shape[0]\n",
        "\n",
        "# Number of dropouts\n",
        "num_dropouts = (df['Target'] == 'Dropout').sum()\n",
        "\n",
        "# Percentage calculation\n",
        "dropout_percentage = (num_dropouts / total_students) * 100\n",
        "\n",
        "print(f\"Total students: {total_students}\")\n",
        "print(f\"Number of dropouts: {num_dropouts}\")\n",
        "print(f\"Dropout rate: {dropout_percentage:.2f}%\")"
      ]
    },
    {
      "cell_type": "code",
      "execution_count": 66,
      "metadata": {
        "colab": {
          "base_uri": "https://localhost:8080/"
        },
        "id": "g2QqbSqs_N3n",
        "outputId": "8e793429-f807-4dd2-f62f-830026b7ba65"
      },
      "outputs": [
        {
          "name": "stdout",
          "output_type": "stream",
          "text": [
            "Percentage of dropout students with unpaid tuition: 32.16%\n"
          ]
        }
      ],
      "source": [
        "# To find the percentage of dropout students with unpaid tuition fees\n",
        "\n",
        "# Count those with tuition fees not up to date (i.e. 'Tuition fees up to date'= 0)\n",
        "not_paid_count = (dropout_df['Tuition fees up to date'] == 0).sum()\n",
        "\n",
        "# Calculate percentage\n",
        "percentage = (not_paid_count / num_dropouts) * 100\n",
        "\n",
        "print(f\"Percentage of dropout students with unpaid tuition: {percentage:.2f}%\")"
      ]
    },
    {
      "cell_type": "code",
      "execution_count": 67,
      "metadata": {},
      "outputs": [
        {
          "name": "stdout",
          "output_type": "stream",
          "text": [
            "Percentage of graduates with unpaid tuition: 1.31%\n"
          ]
        }
      ],
      "source": [
        "# To find the percentage of graduates with unpaid tuition fees\n",
        "\n",
        "graduate_df = df[df['Target'] == 'Graduate']\n",
        "num_graduate = (df['Target'] == 'Graduate').sum()\n",
        "\n",
        "# Count those with tuition fees not up to date (i.e. 'Tuition fees up to date'= 0)\n",
        "not_paid_count_graduate = (graduate_df['Tuition fees up to date'] == 0).sum()\n",
        "\n",
        "# Calculate percentage\n",
        "percentage_graduate = (not_paid_count_graduate / num_graduate) * 100\n",
        "print(f\"Percentage of graduates with unpaid tuition: {percentage_graduate:.2f}%\")"
      ]
    },
    {
      "cell_type": "code",
      "execution_count": 68,
      "metadata": {
        "colab": {
          "base_uri": "https://localhost:8080/"
        },
        "id": "m5nOsTrI_s8t",
        "outputId": "113ddecc-f1c5-4265-85f0-36511804ecb7"
      },
      "outputs": [
        {
          "name": "stdout",
          "output_type": "stream",
          "text": [
            "Number of dropout students with unpaid tuition and scholarships: 28\n",
            "Percentage of dropout students in this group: 1.97%\n"
          ]
        }
      ],
      "source": [
        "# To find the percentage of dropout students with unpaid tuition fees and scholarships\n",
        "\n",
        "# Drop rows with missing data\n",
        "df = df.dropna(subset=['Target', 'Tuition fees up to date', 'Scholarship holder'])\n",
        "\n",
        "\n",
        "# Filter dropout students with tuition not up to date and scholarship\n",
        "condition = (dropout_df['Tuition fees up to date'] == 0) & (dropout_df['Scholarship holder'] == 1)\n",
        "count = condition.sum()\n",
        "\n",
        "\n",
        "# Calculate percentage\n",
        "percentage = (count / num_dropouts) * 100\n",
        "\n",
        "print(f\"Number of dropout students with unpaid tuition and scholarships: {count}\")\n",
        "print(f\"Percentage of dropout students in this group: {percentage:.2f}%\")"
      ]
    },
    {
      "cell_type": "code",
      "execution_count": 69,
      "metadata": {
        "colab": {
          "base_uri": "https://localhost:8080/"
        },
        "id": "J0qAnobLl_HN",
        "outputId": "caf4645d-1ce8-40ee-880f-b51732fa777c"
      },
      "outputs": [
        {
          "name": "stdout",
          "output_type": "stream",
          "text": [
            "Original class distribution: Counter({2: 2209, 0: 1421, 1: 794})\n",
            "Balanced class distribution: Counter({0: 1567, 2: 1567, 1: 1567})\n",
            "\n",
            "Classification Report after SMOTE training:\n",
            "              precision    recall  f1-score   support\n",
            "\n",
            "           0       0.84      0.73      0.78       441\n",
            "           1       0.49      0.49      0.49       245\n",
            "           2       0.81      0.88      0.84       642\n",
            "\n",
            "    accuracy                           0.76      1328\n",
            "   macro avg       0.71      0.70      0.70      1328\n",
            "weighted avg       0.76      0.76      0.76      1328\n",
            "\n"
          ]
        }
      ],
      "source": [
        "# To predict whether a student will drop out using logistic regression, and evaluate the model with metrics using a classification report and confusion matrix\n",
        "# Show the differences in classification reports Before and after SMOTE\n",
        "\n",
        "from sklearn.ensemble import RandomForestClassifier\n",
        "from sklearn.model_selection import train_test_split\n",
        "from imblearn.over_sampling import SMOTE\n",
        "from collections import Counter\n",
        "\n",
        "# Encode categorical variables\n",
        "df_encoded = df.copy() #To create a copy of the DataFrame to avoid modifying the original data \n",
        "for col in df_encoded.select_dtypes(include='object'):\n",
        "    df_encoded[col] = LabelEncoder().fit_transform(df_encoded[col].astype(str))\n",
        "\n",
        "# Define features and target\n",
        "X = df_encoded.drop(columns=['Target'])\n",
        "y = df_encoded['Target']\n",
        "\n",
        "# Check class distribution before balancing\n",
        "print(\"Original class distribution:\", Counter(y))\n",
        "\n",
        "# Train-test split\n",
        "X_train, X_test, y_train, y_test = train_test_split(X, y, test_size=0.3, random_state=42)\n",
        "\n",
        "# Apply SMOTE to balance training data\n",
        "smote = SMOTE(random_state=42)\n",
        "X_train_smote, y_train_smote = smote.fit_resample(X_train, y_train)\n",
        "\n",
        "# Check class distribution after SMOTE\n",
        "print(\"Balanced class distribution:\", Counter(y_train_smote))\n",
        "\n",
        "# Train Random Forest model on balanced data\n",
        "model = RandomForestClassifier(random_state=42)\n",
        "model.fit(X_train_smote, y_train_smote)\n",
        "\n",
        "# Evaluate on test data\n",
        "y_pred = model.predict(X_test)\n",
        "print(\"\\nClassification Report after SMOTE training:\")\n",
        "print(classification_report(y_test, y_pred)) #0 = Dropout, 1 = Currently Enrolled, 2 = Graduated\n",
        "\n",
        "# Precision is the ratio of true positive predictions to the total predicted positives, indicating how many of the predicted positive cases were actually positive.\n",
        "# Recall is the ratio of true positive predictions to the total actual positives, indicating how many of the actual positive cases were correctly predicted.\n",
        "# F1-score is the harmonic mean of precision and recall, providing a balance between the two"
      ]
    },
    {
      "cell_type": "code",
      "execution_count": 71,
      "metadata": {
        "colab": {
          "base_uri": "https://localhost:8080/"
        },
        "id": "8-RjyQkYVAkb",
        "outputId": "08dc87b7-ac75-40d2-e7c9-edb070f875f3"
      },
      "outputs": [
        {
          "name": "stdout",
          "output_type": "stream",
          "text": [
            "Before oversampling: Counter({2: 1567, 0: 980, 1: 549})\n",
            "After oversampling: Counter({0: 1567, 2: 1567, 1: 1567})\n",
            "Performance after oversampling:\n",
            "              precision    recall  f1-score   support\n",
            "\n",
            "           0       0.82      0.77      0.79       441\n",
            "           1       0.57      0.46      0.51       245\n",
            "           2       0.81      0.90      0.85       642\n",
            "\n",
            "    accuracy                           0.78      1328\n",
            "   macro avg       0.73      0.71      0.72      1328\n",
            "weighted avg       0.77      0.78      0.77      1328\n",
            "\n"
          ]
        }
      ],
      "source": [
        "# To apply random oversampling to balance the dataset and train a classifier\n",
        "\n",
        "from imblearn.over_sampling import RandomOverSampler\n",
        "from sklearn.metrics import classification_report\n",
        "\n",
        "# 1. Check class distribution before oversampling\n",
        "print(\"Before oversampling:\", Counter(y_train))\n",
        "\n",
        "# 2. Apply random oversampling\n",
        "oversampler = RandomOverSampler(random_state=42) #Randomly duplicate minority class samples until all classes are balanced\n",
        "X_train_over, y_train_over = oversampler.fit_resample(X_train, y_train)\n",
        "\n",
        "# 3. Check class distribution after oversampling\n",
        "print(\"After oversampling:\", Counter(y_train_over))\n",
        "\n",
        "# 4. Train a classifier on the oversampled data\n",
        "model = RandomForestClassifier(random_state=42)\n",
        "model.fit(X_train_over, y_train_over)\n",
        "\n",
        "\n",
        "# 5. Predict and evaluate on test set\n",
        "y_pred = model.predict(X_test)\n",
        "print(\"Performance after oversampling:\")\n",
        "print(classification_report(y_test, y_pred))\n",
        "\n",
        "#After applying random oversampling, the class distribution in the training set is balanced, which can help improve the model's performance on minority classes. \n",
        "#The classification report provides metrics such as precision, recall, and F1-score for each class, allowing you to evaluate the model's performance comprehensively.\n"
      ]
    },
    {
      "cell_type": "code",
      "execution_count": 73,
      "metadata": {
        "colab": {
          "base_uri": "https://localhost:8080/"
        },
        "id": "Kv1Iy6DSfOxc",
        "outputId": "3224c1ce-37d2-4f4c-f182-d162133128eb"
      },
      "outputs": [
        {
          "name": "stdout",
          "output_type": "stream",
          "text": [
            "Undersampled class distribution: Counter({0: 549, 1: 549, 2: 549})\n",
            "Performance after undersampling:\n",
            "              precision    recall  f1-score   support\n",
            "\n",
            "           0       0.85      0.69      0.76       441\n",
            "           1       0.42      0.62      0.50       245\n",
            "           2       0.84      0.79      0.82       642\n",
            "\n",
            "    accuracy                           0.73      1328\n",
            "   macro avg       0.70      0.70      0.69      1328\n",
            "weighted avg       0.76      0.73      0.74      1328\n",
            "\n"
          ]
        }
      ],
      "source": [
        "# To apply undersampling to balance the dataset and train a classifier\n",
        "\n",
        "from imblearn.under_sampling import RandomUnderSampler\n",
        "\n",
        "# Apply undersampling to the majority class (Enrolled & Graduate)\n",
        "undersampler = RandomUnderSampler(random_state=42)\n",
        "X_train_under, y_train_under = undersampler.fit_resample(X_train, y_train)\n",
        "\n",
        "print(\"Undersampled class distribution:\", Counter(y_train_under))\n",
        "\n",
        "# Train a simple model\n",
        "model = RandomForestClassifier(random_state=42)\n",
        "model.fit(X_train_under, y_train_under)\n",
        "\n",
        "# Evaluate\n",
        "y_pred = model.predict(X_test)\n",
        "print(\"Performance after undersampling:\")\n",
        "print(classification_report(y_test, y_pred))\n",
        "\n",
        "#Compared to oversampling, undersampling reduces the number of majority class samples to balance the dataset.\n",
        "# This can lead to a loss of information from the majority class, but it can also help improve model performance by reducing overfitting on the majority class.\n"
      ]
    }
  ],
  "metadata": {
    "colab": {
      "provenance": []
    },
    "kernelspec": {
      "display_name": "Python 3",
      "name": "python3"
    },
    "language_info": {
      "codemirror_mode": {
        "name": "ipython",
        "version": 3
      },
      "file_extension": ".py",
      "mimetype": "text/x-python",
      "name": "python",
      "nbconvert_exporter": "python",
      "pygments_lexer": "ipython3",
      "version": "3.11.9"
    }
  },
  "nbformat": 4,
  "nbformat_minor": 0
}
