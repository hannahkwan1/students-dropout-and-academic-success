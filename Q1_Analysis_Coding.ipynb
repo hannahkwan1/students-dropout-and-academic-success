{
  "cells": [
    {
      "cell_type": "code",
      "execution_count": 1,
      "metadata": {
        "colab": {
          "base_uri": "https://localhost:8080/"
        },
        "id": "zgP2o7e5PqQa",
        "outputId": "fdc6319a-4236-4216-f2d6-cd7ef1dfe4b9"
      },
      "outputs": [
        {
          "name": "stdout",
          "output_type": "stream",
          "text": [
            "Requirement already satisfied: ucimlrepo in c:\\users\\hanna\\appdata\\local\\packages\\pythonsoftwarefoundation.python.3.11_qbz5n2kfra8p0\\localcache\\local-packages\\python311\\site-packages (0.0.7)\n",
            "Requirement already satisfied: pandas>=1.0.0 in c:\\users\\hanna\\appdata\\local\\packages\\pythonsoftwarefoundation.python.3.11_qbz5n2kfra8p0\\localcache\\local-packages\\python311\\site-packages (from ucimlrepo) (2.3.0)\n",
            "Requirement already satisfied: certifi>=2020.12.5 in c:\\users\\hanna\\appdata\\local\\packages\\pythonsoftwarefoundation.python.3.11_qbz5n2kfra8p0\\localcache\\local-packages\\python311\\site-packages (from ucimlrepo) (2025.4.26)\n",
            "Requirement already satisfied: numpy>=1.23.2 in c:\\users\\hanna\\appdata\\local\\packages\\pythonsoftwarefoundation.python.3.11_qbz5n2kfra8p0\\localcache\\local-packages\\python311\\site-packages (from pandas>=1.0.0->ucimlrepo) (2.3.0)\n",
            "Requirement already satisfied: python-dateutil>=2.8.2 in c:\\users\\hanna\\appdata\\local\\packages\\pythonsoftwarefoundation.python.3.11_qbz5n2kfra8p0\\localcache\\local-packages\\python311\\site-packages (from pandas>=1.0.0->ucimlrepo) (2.9.0.post0)\n",
            "Requirement already satisfied: pytz>=2020.1 in c:\\users\\hanna\\appdata\\local\\packages\\pythonsoftwarefoundation.python.3.11_qbz5n2kfra8p0\\localcache\\local-packages\\python311\\site-packages (from pandas>=1.0.0->ucimlrepo) (2025.2)\n",
            "Requirement already satisfied: tzdata>=2022.7 in c:\\users\\hanna\\appdata\\local\\packages\\pythonsoftwarefoundation.python.3.11_qbz5n2kfra8p0\\localcache\\local-packages\\python311\\site-packages (from pandas>=1.0.0->ucimlrepo) (2025.2)\n",
            "Requirement already satisfied: six>=1.5 in c:\\users\\hanna\\appdata\\local\\packages\\pythonsoftwarefoundation.python.3.11_qbz5n2kfra8p0\\localcache\\local-packages\\python311\\site-packages (from python-dateutil>=2.8.2->pandas>=1.0.0->ucimlrepo) (1.17.0)\n",
            "Note: you may need to restart the kernel to use updated packages.\n"
          ]
        },
        {
          "name": "stderr",
          "output_type": "stream",
          "text": [
            "\n",
            "[notice] A new release of pip is available: 24.0 -> 25.1.1\n",
            "[notice] To update, run: C:\\Users\\hanna\\AppData\\Local\\Microsoft\\WindowsApps\\PythonSoftwareFoundation.Python.3.11_qbz5n2kfra8p0\\python.exe -m pip install --upgrade pip\n"
          ]
        }
      ],
      "source": [
        "pip install ucimlrepo\n"
      ]
    },
    {
      "cell_type": "code",
      "execution_count": null,
      "metadata": {
        "colab": {
          "base_uri": "https://localhost:8080/",
          "height": 715
        },
        "id": "MgVBn4QwPXzp",
        "outputId": "4f75d2ff-3d74-48a4-b1bd-f9907ed7dfdd"
      },
      "outputs": [
        {
          "name": "stdout",
          "output_type": "stream",
          "text": [
            "Classification Report:\n",
            "              precision    recall  f1-score   support\n",
            "\n",
            "           0       0.86      0.95      0.90       569\n",
            "           1       0.88      0.72      0.79       316\n",
            "\n",
            "    accuracy                           0.87       885\n",
            "   macro avg       0.87      0.83      0.85       885\n",
            "weighted avg       0.87      0.87      0.86       885\n",
            "\n",
            "\n",
            "Confusion Matrix:\n",
            "[[539  30]\n",
            " [ 88 228]]\n"
          ]
        },
        {
          "data": {
            "image/png": "[encoded data removed]",
            "text/plain": [
              "<Figure size 640x480 with 2 Axes>"
            ]
          },
          "metadata": {},
          "output_type": "display_data"
        }
      ],
      "source": [
        "#To predict whether a student will drop out using logistic regression, and evaluate the model with metrics using a classification report and confusion matrix\n",
        "\n",
        "import pandas as pd\n",
        "import seaborn as sns\n",
        "import matplotlib.pyplot as plt\n",
        "from ucimlrepo import fetch_ucirepo\n",
        "from sklearn.model_selection import train_test_split\n",
        "from sklearn.linear_model import LogisticRegression\n",
        "from sklearn.metrics import classification_report, confusion_matrix, ConfusionMatrixDisplay\n",
        "from sklearn.preprocessing import StandardScaler\n",
        "import warnings\n",
        "from sklearn.exceptions import ConvergenceWarning\n",
        "\n",
        "# Suppress convergence warnings \n",
        "warnings.filterwarnings(\"ignore\", category=ConvergenceWarning)\n",
        "\n",
        "# Fetch dataset\n",
        "dataset = fetch_ucirepo(id=697)\n",
        "\n",
        "# Extract features and targets\n",
        "X = dataset.data.features\n",
        "y = dataset.data.targets\n",
        "\n",
        "# Convert Target column to binary (Dropout = 1, others = 0)\n",
        "y_binary = y['Target'].apply(lambda x: 1 if x == 'Dropout' else 0)\n",
        "\n",
        "# One-hot encode categorical features\n",
        "X_encoded = pd.get_dummies(X, drop_first=True)\n",
        "\n",
        "# Scale features\n",
        "scaler = StandardScaler()\n",
        "X_scaled = scaler.fit_transform(X_encoded)\n",
        "\n",
        "# Split data into training and testing sets\n",
        "X_train, X_test, y_train, y_test = train_test_split(X_scaled, y_binary, test_size=0.2, random_state=42)\n",
        "\n",
        "# Train logistic regression model\n",
        "logreg = LogisticRegression(max_iter=5000, solver='liblinear')  # Increased max_iter for convergence\n",
        "logreg.fit(X_train, y_train)\n",
        "\n",
        "# Predict on test data\n",
        "y_pred = logreg.predict(X_test)\n",
        "\n",
        "# Evaluate model\n",
        "print(\"Classification Report:\")\n",
        "print(classification_report(y_test, y_pred))\n",
        "\n",
        "print(\"\\nConfusion Matrix:\")\n",
        "cm = confusion_matrix(y_test, y_pred)\n",
        "print(cm)\n",
        "\n",
        "# Visualize confusion matrix\n",
        "disp = ConfusionMatrixDisplay(confusion_matrix=cm, display_labels=[\"Not Dropout\", \"Dropout\"])\n",
        "disp.plot(cmap='Blues')\n",
        "plt.title(\"Confusion Matrix\")\n",
        "plt.show()"
      ]
    },
    {
      "cell_type": "code",
      "execution_count": 20,
      "metadata": {
        "colab": {
          "base_uri": "https://localhost:8080/",
          "height": 715
        },
        "id": "Lgxe7zVhPpdJ",
        "outputId": "40b61fe5-daeb-43c6-beb0-f1bf28100edf"
      },
      "outputs": [
        {
          "name": "stdout",
          "output_type": "stream",
          "text": [
            "Classification Report after SMOTE:\n",
            "              precision    recall  f1-score   support\n",
            "\n",
            "           0       0.87      0.88      0.87       569\n",
            "           1       0.78      0.76      0.77       316\n",
            "\n",
            "    accuracy                           0.84       885\n",
            "   macro avg       0.82      0.82      0.82       885\n",
            "weighted avg       0.83      0.84      0.83       885\n",
            "\n",
            "\n",
            "Confusion Matrix after SMOTE:\n",
            "[[500  69]\n",
            " [ 77 239]]\n"
          ]
        },
        {
          "data": {
            "image/png": "[encoded data removed]",
            "text/plain": [
              "<Figure size 640x480 with 2 Axes>"
            ]
          },
          "metadata": {},
          "output_type": "display_data"
        }
      ],
      "source": [
        "#To predict whether a student will drop out using logistic regression like above, but with SMOTE this time to handle class imbalance before training the model\n",
        "\n",
        "import pandas as pd\n",
        "import seaborn as sns\n",
        "import matplotlib.pyplot as plt\n",
        "from ucimlrepo import fetch_ucirepo\n",
        "from sklearn.model_selection import train_test_split\n",
        "from sklearn.linear_model import LogisticRegression\n",
        "from sklearn.metrics import classification_report, confusion_matrix, ConfusionMatrixDisplay\n",
        "from imblearn.over_sampling import SMOTE\n",
        "\n",
        "# Fetch dataset\n",
        "dataset = fetch_ucirepo(id=697)\n",
        "\n",
        "# Extract features and targets\n",
        "X = dataset.data.features\n",
        "y = dataset.data.targets\n",
        "\n",
        "# Convert Target column to binary (Dropout = 1, others = 0)\n",
        "y_binary = y['Target'].apply(lambda x: 1 if x == 'Dropout' else 0)\n",
        "\n",
        "# One-hot encode categorical features\n",
        "X_encoded = pd.get_dummies(X, drop_first=True)\n",
        "\n",
        "# Split data into training and testing sets\n",
        "X_train, X_test, y_train, y_test = train_test_split(X_encoded, y_binary, test_size=0.2, random_state=42)\n",
        "\n",
        "# Train logistic regression model\n",
        "logreg = LogisticRegression(max_iter=1000)\n",
        "smote = SMOTE(random_state=42)\n",
        "X_train_smote, y_train_smote = smote.fit_resample(X_train, y_train)\n",
        "logreg.fit(X_train_smote, y_train_smote)\n",
        "\n",
        "# Predict on test data\n",
        "y_pred = logreg.predict(X_test)\n",
        "\n",
        "# Evaluate model\n",
        "print(\"Classification Report after SMOTE:\")\n",
        "print(classification_report(y_test, y_pred))\n",
        "\n",
        "print(\"\\nConfusion Matrix after SMOTE:\")\n",
        "cm = confusion_matrix(y_test, y_pred)\n",
        "print(cm)\n",
        "\n",
        "# Visualize confusion matrix\n",
        "disp = ConfusionMatrixDisplay(confusion_matrix=cm, display_labels=[\"Not Dropout\", \"Dropout\"])\n",
        "disp.plot(cmap='Purples')\n",
        "plt.title(\"Confusion Matrix after SMOTE\")\n",
        "plt.show()"
      ]
    },
    {
      "cell_type": "code",
      "execution_count": 22,
      "metadata": {
        "colab": {
          "base_uri": "https://localhost:8080/"
        },
        "id": "TVgpizXQrvTd",
        "outputId": "c17fbb49-e098-40d7-a2e3-b554cf921327"
      },
      "outputs": [
        {
          "name": "stdout",
          "output_type": "stream",
          "text": [
            "Most common mother's occupations among neighbors of graduated students:\n",
            "\n",
            "9    4206\n",
            "4    1995\n",
            "5    1404\n",
            "3     900\n",
            "7     817\n",
            "Name: count, dtype: int64\n"
          ]
        }
      ],
      "source": [
        "#Most common mother's occupations among neighbors of graduated students using KNN\n",
        "#To find the most common mother's occupations among neighbors of graduated students using KNN\n",
        "\n",
        "import pandas as pd\n",
        "from ucimlrepo import fetch_ucirepo\n",
        "from sklearn.preprocessing import StandardScaler\n",
        "from sklearn.neighbors import NearestNeighbors\n",
        "\n",
        "# Load dataset\n",
        "dataset = fetch_ucirepo(id=697)\n",
        "X = dataset.data.features\n",
        "y = dataset.data.targets['Target']  # 'Dropout', 'Graduate', 'Enrolled'\n",
        "\n",
        "# Combine features and target\n",
        "df = X.copy()\n",
        "df['Target'] = y\n",
        "\n",
        "# Save raw Mjob column for later reference\n",
        "mjob_column = X[\"Mother's occupation\"].copy()\n",
        "\n",
        "# One-hot encode features for KNN excluding the target\n",
        "X_encoded = pd.get_dummies(X, drop_first=True)\n",
        "\n",
        "# Scale features for finding out KNN distance\n",
        "scaler = StandardScaler()\n",
        "X_scaled = scaler.fit_transform(X_encoded)\n",
        "\n",
        "# Fit KNN model to full data\n",
        "knn = NearestNeighbors(n_neighbors=6)  # 1 self + 5 nearest neighbors\n",
        "knn.fit(X_scaled)\n",
        "\n",
        "# Get indices of dropout students\n",
        "dropout_indices = df[df['Target'] == 'Graduate'].index\n",
        "\n",
        "# Collect mother's jobs of neighbors (excluding self)\n",
        "mjob_neighbors = []\n",
        "\n",
        "for idx in dropout_indices:\n",
        "    distances, neighbor_idxs = knn.kneighbors([X_scaled[idx]])\n",
        "    for neighbor_idx in neighbor_idxs[0][1:]:  # Skip the first one (self)\n",
        "        mjob = mjob_column.iloc[neighbor_idx]  # Pull raw Mjob from original data\n",
        "        mjob_neighbors.append(mjob)\n",
        "\n",
        "# Analyze the distribution of mother's jobs\n",
        "mjob_counts = pd.Series(mjob_neighbors).value_counts()\n",
        "\n",
        "# Display the result\n",
        "print(\"Most common mother's occupations among neighbors of graduated students:\\n\")\n",
        "print(mjob_counts.head(5))"
      ]
    },
    {
      "cell_type": "code",
      "execution_count": null,
      "metadata": {
        "colab": {
          "base_uri": "https://localhost:8080/"
        },
        "id": "R8ZFtbRKuvIJ",
        "outputId": "5970cc89-0b60-4e7c-b549-dc1018743d0d"
      },
      "outputs": [
        {
          "name": "stdout",
          "output_type": "stream",
          "text": [
            "Most common mother's occupations among neighbors of dropout students:\n",
            "\n",
            "9    2625\n",
            "4    1210\n",
            "5     813\n",
            "3     563\n",
            "2     501\n",
            "Name: count, dtype: int64\n"
          ]
        }
      ],
      "source": [
        "#Most common mother's occupations among neighbors of dropout students\n",
        "#Same as above, but for dropout students\n",
        "\n",
        "import pandas as pd\n",
        "from ucimlrepo import fetch_ucirepo\n",
        "from sklearn.preprocessing import StandardScaler\n",
        "from sklearn.neighbors import NearestNeighbors\n",
        "\n",
        "# Load dataset\n",
        "dataset = fetch_ucirepo(id=697)\n",
        "X = dataset.data.features\n",
        "y = dataset.data.targets['Target']  # 'Dropout', 'Graduate', 'Enrolled'\n",
        "\n",
        "# Combine features and target\n",
        "df = X.copy()\n",
        "df['Target'] = y\n",
        "\n",
        "# Save raw Mjob column for later reference\n",
        "mjob_column = X[\"Mother's occupation\"].copy()\n",
        "\n",
        "# One-hot encode features for KNN (excluding the target)\n",
        "X_encoded = pd.get_dummies(X, drop_first=True)\n",
        "\n",
        "# Scale features for finding out KNN distance\n",
        "scaler = StandardScaler()\n",
        "X_scaled = scaler.fit_transform(X_encoded)\n",
        "\n",
        "# Fit KNN model to full data\n",
        "knn = NearestNeighbors(n_neighbors=6)  \n",
        "knn.fit(X_scaled)\n",
        "\n",
        "# Get indices of dropout students\n",
        "dropout_indices = df[df['Target'] == 'Dropout'].index\n",
        "\n",
        "# Collect mother's jobs of neighbors (excluding self)\n",
        "mjob_neighbors = []\n",
        "\n",
        "for idx in dropout_indices:\n",
        "    distances, neighbor_idxs = knn.kneighbors([X_scaled[idx]])\n",
        "    for neighbor_idx in neighbor_idxs[0][1:]:  \n",
        "        mjob = mjob_column.iloc[neighbor_idx]  \n",
        "        mjob_neighbors.append(mjob)\n",
        "\n",
        "# Analyze the distribution of mother's jobs\n",
        "mjob_counts = pd.Series(mjob_neighbors).value_counts()\n",
        "\n",
        "# Display the result\n",
        "print(\"Most common mother's occupations among neighbors of dropout students:\\n\")\n",
        "print(mjob_counts.head(5))"
      ]
    },
    {
      "cell_type": "code",
      "execution_count": 31,
      "metadata": {
        "colab": {
          "base_uri": "https://localhost:8080/"
        },
        "id": "LR9x6B56j8SV",
        "outputId": "7da74c41-d8ee-4e6f-9884-7fdfe6ac35b7"
      },
      "outputs": [
        {
          "name": "stdout",
          "output_type": "stream",
          "text": [
            "\n",
            "Mother's Occupation for dropout student:\n",
            "Mother's occupation\n",
            "9    490\n",
            "4    248\n",
            "5    156\n",
            "2    102\n",
            "0     99\n",
            "Name: count, dtype: int64\n",
            "\n",
            "Father's Occupation for dropout student:\n",
            "Father's occupation\n",
            "9    323\n",
            "7    184\n",
            "5    148\n",
            "4    139\n",
            "3    114\n",
            "Name: count, dtype: int64\n",
            "\n",
            "Mother's Occupation for Graduated student:\n",
            "Mother's occupation\n",
            "9    823\n",
            "4    422\n",
            "5    280\n",
            "3    177\n",
            "7    144\n",
            "Name: count, dtype: int64\n",
            "\n",
            "Father's Occupation for Graduated student:\n",
            "Father's occupation\n",
            "9    524\n",
            "7    371\n",
            "5    261\n",
            "3    207\n",
            "4    173\n",
            "Name: count, dtype: int64\n",
            "\n",
            "Mother's Occupation for Enrolled student:\n",
            "Mother's occupation\n",
            "9    264\n",
            "4    147\n",
            "5     94\n",
            "3     79\n",
            "2     78\n",
            "Name: count, dtype: int64\n",
            "\n",
            "Father's Occupation for Enrolled student:\n",
            "Father's occupation\n",
            "9    163\n",
            "7    111\n",
            "5    107\n",
            "4     74\n",
            "3     63\n",
            "Name: count, dtype: int64\n"
          ]
        }
      ],
      "source": [
        "#To find the most common mother's and father's occupations among dropout, graduate, and enrolled students using value_counts instead of KNN\n",
        "\n",
        "print(\"\\nMother's Occupation for dropout student:\")\n",
        "print(df[df['Target'] == 'Dropout'][\"Mother's occupation\"].value_counts().head(5))\n",
        "print(\"\\nFather's Occupation for dropout student:\")\n",
        "print(df[df['Target'] == 'Dropout'][\"Father's occupation\"].value_counts().head(5))\n",
        "print(\"\\nMother's Occupation for Graduated student:\")\n",
        "print(df[df['Target'] == 'Graduate'][\"Mother's occupation\"].value_counts().head(5))\n",
        "print(\"\\nFather's Occupation for Graduated student:\")\n",
        "print(df[df['Target'] == 'Graduate'][\"Father's occupation\"].value_counts().head(5))\n",
        "print(\"\\nMother's Occupation for Enrolled student:\")\n",
        "print(df[df['Target'] == 'Enrolled'][\"Mother's occupation\"].value_counts().head(5))\n",
        "print(\"\\nFather's Occupation for Enrolled student:\")\n",
        "print(df[df['Target'] == 'Enrolled'][\"Father's occupation\"].value_counts().head(5))\n",
        "\n",
        "#9 - Unskilled Workers\n",
        "#4 - Administrative staff\n",
        "#5 - Personal Services, Security and Safety Workers and Sellers\n",
        "#7 - Skilled Workers in Industry, Construction and Craftsmen\n",
        "#3 - Intermediate Level Technicians and Professions\n",
        "#2 - Specialists in Intellectual and Scientific Activities\n",
        "#0 - Student"
      ]
    },
    {
      "cell_type": "code",
      "execution_count": null,
      "metadata": {
        "colab": {
          "base_uri": "https://localhost:8080/"
        },
        "id": "BW1HYrSPjBWZ",
        "outputId": "838b9edb-dbeb-446c-da08-dbffc2876d33"
      },
      "outputs": [
        {
          "name": "stdout",
          "output_type": "stream",
          "text": [
            "\n",
            " Mother's qualification for dropout student:\n",
            "Mother's qualification\n",
            "1     204\n",
            "19    176\n",
            "37    169\n",
            "3     101\n",
            "38     91\n",
            "Name: count, dtype: int64\n",
            "\n",
            "   Father's qualification for dropout student:\n",
            "Father's qualification\n",
            "37    199\n",
            "19    183\n",
            "1     172\n",
            "38    127\n",
            "3      62\n",
            "Name: count, dtype: int64\n",
            "\n",
            "   Mother's qualification for graduate student:\n",
            "Mother's qualification\n",
            "1     565\n",
            "19    506\n",
            "37    457\n",
            "38    331\n",
            "3     198\n",
            "Name: count, dtype: int64\n",
            "\n",
            "   Father's qualification for graduate student:\n",
            "Father's qualification\n",
            "37    578\n",
            "19    521\n",
            "1     451\n",
            "38    408\n",
            "3     130\n",
            "Name: count, dtype: int64\n",
            "\n",
            "   Mother's qualification for enrolled student:\n",
            "Mother's qualification\n",
            "1     204\n",
            "19    176\n",
            "37    169\n",
            "3     101\n",
            "38     91\n",
            "Name: count, dtype: int64\n",
            "\n",
            "   Father's qualification for enrolled student:\n",
            "Father's qualification\n",
            "37    199\n",
            "19    183\n",
            "1     172\n",
            "38    127\n",
            "3      62\n",
            "Name: count, dtype: int64\n"
          ]
        }
      ],
      "source": [
        "#To find the most common mother's and father's qualifications among dropout, graduate, and enrolled students using value_counts\n",
        "\n",
        "print(\"\\nMother's qualification for dropout student:\")\n",
        "print(df[df['Target'] == 'Enrolled'][\"Mother's qualification\"].value_counts().head(5))\n",
        "print(\"\\nFather's qualification for dropout student:\")\n",
        "print(df[df['Target'] == 'Enrolled'][\"Father's qualification\"].value_counts().head(5))\n",
        "print(\"\\nMother's qualification for graduate student:\")\n",
        "print(df[df['Target'] == 'Graduate'][\"Mother's qualification\"].value_counts().head(5))\n",
        "print(\"\\nFather's qualification for graduate student:\")\n",
        "print(df[df['Target'] == 'Graduate'][\"Father's qualification\"].value_counts().head(5))\n",
        "print(\"\\nMother's qualification for enrolled student:\")\n",
        "print(df[df['Target'] == 'Enrolled'][\"Mother's qualification\"].value_counts().head(5))\n",
        "print(\"\\nFather's qualification for enrolled student:\")\n",
        "print(df[df['Target'] == 'Enrolled'][\"Father's qualification\"].value_counts().head(5))\n",
        "\n",
        "#37 - Basic education 1st cycle (4th/5th year) or equiv\n",
        "#1 - Secondary Education - 12th Year of Schooling or Eq.\n",
        "#19 - Basic Education 3rd Cycle (9th/10th/11th Year) or Equiv.\n",
        "#38 - Basic Education 2nd Cycle (6th/7th/8th Year) or Equiv.\n",
        "#3 - Basic Education 1st Cycle (4th/5th Year) or Equiv.\n"
      ]
    },
    {
      "cell_type": "code",
      "execution_count": null,
      "metadata": {
        "colab": {
          "base_uri": "https://localhost:8080/",
          "height": 1000
        },
        "id": "9ihjYtv3-zrN",
        "outputId": "58f0a2d1-84c3-4332-b62a-fdceb7f5ee4b"
      },
      "outputs": [
        {
          "data": {
            "image/png": "[encoded data removed]",
            "text/plain": [
              "<Figure size 1200x600 with 1 Axes>"
            ]
          },
          "metadata": {},
          "output_type": "display_data"
        }
      ],
      "source": [
        "#To find the most common mother's qualifications among neighbors of enrolled and graduate students using KNN\n",
        "\n",
        "import pandas as pd\n",
        "from ucimlrepo import fetch_ucirepo\n",
        "from sklearn.preprocessing import StandardScaler\n",
        "from sklearn.neighbors import NearestNeighbors\n",
        "import matplotlib.pyplot as plt\n",
        "\n",
        "# Load dataset\n",
        "dataset = fetch_ucirepo(id=697)\n",
        "X = dataset.data.features\n",
        "y = dataset.data.targets['Target']  # 'Dropout', 'Graduate', 'Enrolled'\n",
        "\n",
        "# Combine features and target\n",
        "df = X.copy()\n",
        "df['Target'] = y\n",
        "\n",
        "# Save raw Mjob column for later reference\n",
        "mjob_column = X[\"Mother's qualification\"].copy()\n",
        "\n",
        "# One-hot encode features for KNN\n",
        "X_encoded = pd.get_dummies(X, drop_first=True)\n",
        "\n",
        "# Scale features\n",
        "scaler = StandardScaler()\n",
        "X_scaled = scaler.fit_transform(X_encoded)\n",
        "\n",
        "# Fit KNN model\n",
        "knn = NearestNeighbors(n_neighbors=6)  # 1 self + 5 neighbors\n",
        "knn.fit(X_scaled)\n",
        "\n",
        "# Function to collect Mjob info from neighbors\n",
        "def get_mother_job_neighbors(group_label):\n",
        "    indices = df[df['Target'] == group_label].index\n",
        "    mjob_neighbors = []\n",
        "\n",
        "    for idx in indices:\n",
        "        distances, neighbor_idxs = knn.kneighbors([X_scaled[idx]])\n",
        "        for neighbor_idx in neighbor_idxs[0][1:]:  # skip self\n",
        "            mjob = mjob_column.iloc[neighbor_idx]\n",
        "            mjob_neighbors.append(mjob)\n",
        "\n",
        "    return pd.Series(mjob_neighbors).value_counts()\n",
        "\n",
        "# Get distributions for Enrolled and Graduate students\n",
        "enrolled_mjobs = get_mother_job_neighbors('Enrolled')\n",
        "graduate_mjobs = get_mother_job_neighbors('Graduate')\n",
        "\n",
        "# Visualize side by side\n",
        "comparison_df = pd.DataFrame({\n",
        "    'Enrolled Neighbors': enrolled_mjobs,\n",
        "    'Graduate Neighbors': graduate_mjobs\n",
        "}).fillna(0)\n",
        "\n",
        "comparison_df.plot(kind='bar', figsize=(12, 6), colormap='Pastel1')\n",
        "plt.title(\"Mother's Qualification Among Neighbors\")\n",
        "plt.ylabel(\"Count\")\n",
        "plt.xticks(rotation=45)\n",
        "plt.tight_layout()\n",
        "plt.show()"
      ]
    },
    {
      "cell_type": "code",
      "execution_count": null,
      "metadata": {
        "colab": {
          "base_uri": "https://localhost:8080/"
        },
        "id": "yn0nOBuUzK-5",
        "outputId": "5aa35a99-611f-4512-b100-2c0dd19e33ec"
      },
      "outputs": [
        {
          "name": "stdout",
          "output_type": "stream",
          "text": [
            "Classification Report:\n",
            "              precision    recall  f1-score   support\n",
            "\n",
            "           0       0.86      0.95      0.90       569\n",
            "           1       0.88      0.72      0.79       316\n",
            "\n",
            "    accuracy                           0.87       885\n",
            "   macro avg       0.87      0.83      0.85       885\n",
            "weighted avg       0.87      0.87      0.86       885\n",
            "\n",
            "\n",
            " Top Influential Features (Logistic Regression Coefficients):\n",
            "                                Feature  Coefficient\n",
            "30  Curricular units 2nd sem (approved)    -1.866441\n",
            "28  Curricular units 2nd sem (enrolled)     1.114171\n",
            "24  Curricular units 1st sem (approved)    -0.976295\n",
            "16              Tuition fees up to date    -0.762553\n",
            "27  Curricular units 2nd sem (credited)     0.484580\n",
            "21  Curricular units 1st sem (credited)     0.420171\n",
            "19                    Age at enrollment     0.382771\n",
            "31     Curricular units 2nd sem (grade)    -0.368263\n",
            "10                  Mother's occupation    -0.336134\n",
            "25     Curricular units 1st sem (grade)     0.291597\n"
          ]
        }
      ],
      "source": [
        "#To predict whether a student will drop out using logistic regression, and evaluate the model with metrics using a classification report and confusion matrix\n",
        "\n",
        "import pandas as pd\n",
        "from ucimlrepo import fetch_ucirepo\n",
        "from sklearn.linear_model import LogisticRegression\n",
        "from sklearn.preprocessing import StandardScaler\n",
        "from sklearn.model_selection import train_test_split\n",
        "from sklearn.metrics import classification_report\n",
        "\n",
        "# Load dataset\n",
        "dataset = fetch_ucirepo(id=697)\n",
        "X = dataset.data.features\n",
        "y = dataset.data.targets['Target']  # 'Dropout', 'Graduate', 'Enrolled'\n",
        "\n",
        "# Convert target to binary (e.g., Dropout = 1, others = 0)\n",
        "y_binary = y.apply(lambda x: 1 if x == 'Dropout' else 0)\n",
        "\n",
        "# Select relevant academic performance columns\n",
        "academic_cols = ['Admission grade', 'Curricular units 1st sem (grade)', 'Curricular units 2nd sem (grade)']\n",
        "\n",
        "# One-hot encode categorical variables\n",
        "X_encoded = pd.get_dummies(X, drop_first=True)\n",
        "\n",
        "# Ensure academic columns are included\n",
        "for col in academic_cols:\n",
        "    if col not in X_encoded.columns:\n",
        "        X_encoded[col] = X[col]\n",
        "\n",
        "# Scale features\n",
        "scaler = StandardScaler()\n",
        "X_scaled = scaler.fit_transform(X_encoded)\n",
        "\n",
        "# Split data\n",
        "X_train, X_test, y_train, y_test = train_test_split(X_scaled, y_binary, test_size=0.2, random_state=42)\n",
        "\n",
        "# Train logistic regression\n",
        "logreg = LogisticRegression(max_iter=1000)\n",
        "logreg.fit(X_train, y_train)\n",
        "\n",
        "# Model evaluation\n",
        "y_pred = logreg.predict(X_test)\n",
        "print(\"Classification Report:\")\n",
        "print(classification_report(y_test, y_pred))\n",
        "\n",
        "# Feature coefficients\n",
        "coef_df = pd.DataFrame({\n",
        "    'Feature': X_encoded.columns,\n",
        "    'Coefficient': logreg.coef_[0]\n",
        "}).sort_values(by='Coefficient', key=abs, ascending=False)\n",
        "\n",
        "print(\"\\n Top Influential Features (Logistic Regression Coefficients):\")\n",
        "print(coef_df.head(10))"
      ]
    },
    {
      "cell_type": "code",
      "execution_count": 39,
      "metadata": {
        "colab": {
          "base_uri": "https://localhost:8080/"
        },
        "id": "AuldFje1wTQ_",
        "outputId": "e66fa109-60a3-47ef-cada-3fd49b530733"
      },
      "outputs": [
        {
          "name": "stdout",
          "output_type": "stream",
          "text": [
            "\n",
            "Top Influential Features (Random Forest):\n",
            "Curricular units 2nd sem (approved)       0.153905\n",
            "Curricular units 2nd sem (grade)          0.141506\n",
            "Curricular units 1st sem (approved)       0.080268\n",
            "Curricular units 1st sem (grade)          0.063830\n",
            "Tuition fees up to date                   0.063040\n",
            "Age at enrollment                         0.040424\n",
            "Curricular units 2nd sem (evaluations)    0.038035\n",
            "Admission grade                           0.035900\n",
            "Previous qualification (grade)            0.033026\n",
            "Course                                    0.032665\n",
            "dtype: float64\n"
          ]
        }
      ],
      "source": [
        "#To train a Random Forest model on the same encoded data and find the top 10 influential features\n",
        "\n",
        "from sklearn.ensemble import RandomForestClassifier\n",
        "\n",
        "# Train Random Forest on the same encoded data\n",
        "rf = RandomForestClassifier(random_state=42)\n",
        "rf.fit(X_train, y_train)\n",
        "\n",
        "# Feature importance\n",
        "rf_importance = pd.Series(rf.feature_importances_, index=X_encoded.columns).sort_values(ascending=False)\n",
        "\n",
        "print(\"\\nTop Influential Features (Random Forest):\")\n",
        "print(rf_importance.head(10))"
      ]
    }
  ],
  "metadata": {
    "colab": {
      "provenance": []
    },
    "kernelspec": {
      "display_name": "Python 3",
      "name": "python3"
    },
    "language_info": {
      "codemirror_mode": {
        "name": "ipython",
        "version": 3
      },
      "file_extension": ".py",
      "mimetype": "text/x-python",
      "name": "python",
      "nbconvert_exporter": "python",
      "pygments_lexer": "ipython3",
      "version": "3.11.9"
    }
  },
  "nbformat": 4,
  "nbformat_minor": 0
}
