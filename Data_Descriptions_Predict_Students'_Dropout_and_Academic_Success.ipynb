{
  "nbformat": 4,
  "nbformat_minor": 0,
  "metadata": {
    "colab": {
      "provenance": []
    },
    "kernelspec": {
      "name": "python3",
      "display_name": "Python 3"
    },
    "language_info": {
      "name": "python"
    }
  },
  "cells": [
    {
      "cell_type": "code",
      "source": [
        "pip install ucimlrepo"
      ],
      "metadata": {
        "colab": {
          "base_uri": "https://localhost:8080/"
        },
        "id": "PlQew3QWGB0y",
        "outputId": "c189633b-acd8-4201-c5f7-53e666b30608"
      },
      "execution_count": 2,
      "outputs": [
        {
          "output_type": "stream",
          "name": "stdout",
          "text": [
            "Collecting ucimlrepo\n",
            "  Downloading ucimlrepo-0.0.7-py3-none-any.whl.metadata (5.5 kB)\n",
            "Requirement already satisfied: pandas>=1.0.0 in /usr/local/lib/python3.11/dist-packages (from ucimlrepo) (2.2.2)\n",
            "Requirement already satisfied: certifi>=2020.12.5 in /usr/local/lib/python3.11/dist-packages (from ucimlrepo) (2025.6.15)\n",
            "Requirement already satisfied: numpy>=1.23.2 in /usr/local/lib/python3.11/dist-packages (from pandas>=1.0.0->ucimlrepo) (2.0.2)\n",
            "Requirement already satisfied: python-dateutil>=2.8.2 in /usr/local/lib/python3.11/dist-packages (from pandas>=1.0.0->ucimlrepo) (2.9.0.post0)\n",
            "Requirement already satisfied: pytz>=2020.1 in /usr/local/lib/python3.11/dist-packages (from pandas>=1.0.0->ucimlrepo) (2025.2)\n",
            "Requirement already satisfied: tzdata>=2022.7 in /usr/local/lib/python3.11/dist-packages (from pandas>=1.0.0->ucimlrepo) (2025.2)\n",
            "Requirement already satisfied: six>=1.5 in /usr/local/lib/python3.11/dist-packages (from python-dateutil>=2.8.2->pandas>=1.0.0->ucimlrepo) (1.17.0)\n",
            "Downloading ucimlrepo-0.0.7-py3-none-any.whl (8.0 kB)\n",
            "Installing collected packages: ucimlrepo\n",
            "Successfully installed ucimlrepo-0.0.7\n"
          ]
        }
      ]
    },
    {
      "cell_type": "code",
      "source": [
        "#Summary of dataset - Feature Types and Missing Value Check\n",
        "\n",
        "from ucimlrepo import fetch_ucirepo\n",
        "\n",
        "#Access to the dataset\n",
        "higher_education_students_performance_evaluation = fetch_ucirepo(id=697)\n",
        "\n",
        "# Data as Panda dataframes\n",
        "X = higher_education_students_performance_evaluation.data.features\n",
        "y = higher_education_students_performance_evaluation.data.targets\n",
        "\n",
        "# Number of rows and columns\n",
        "print(\"Features shape (X):\", X.shape)\n",
        "print(\"Target shape (y):\", y.shape)\n",
        "\n",
        "# Total number of samples\n",
        "print(\"No.samples:\", X.shape[0])\n",
        "\n",
        "# Total number of features (columns)\n",
        "print(\"No. features:\", X.shape[1])\n",
        "\n",
        "# Metadata - General info about the dataset, inlcuding header, role, and data type\n",
        "print(higher_education_students_performance_evaluation.metadata)\n",
        "\n",
        "# Variable information - Info about variables and whether there are missing values\n",
        "print(higher_education_students_performance_evaluation.variables)\n",
        "\n"
      ],
      "metadata": {
        "colab": {
          "base_uri": "https://localhost:8080/"
        },
        "id": "zCJmiAgeGWJt",
        "outputId": "4958daa2-4b81-4512-8359-b7676b3e20ea"
      },
      "execution_count": 4,
      "outputs": [
        {
          "output_type": "stream",
          "name": "stdout",
          "text": [
            "Features shape (X): (4424, 36)\n",
            "Target shape (y): (4424, 1)\n",
            "No.samples: 4424\n",
            "No. features: 36\n",
            "{'uci_id': 697, 'name': \"Predict Students' Dropout and Academic Success\", 'repository_url': 'https://archive.ics.uci.edu/dataset/697/predict+students+dropout+and+academic+success', 'data_url': 'https://archive.ics.uci.edu/static/public/697/data.csv', 'abstract': \"A dataset created from a higher education institution (acquired from several disjoint databases) related to students enrolled in different undergraduate degrees, such as agronomy, design, education, nursing, journalism, management, social service, and technologies.\\nThe dataset includes information known at the time of student enrollment (academic path, demographics, and social-economic factors) and the students' academic performance at the end of the first and second semesters. \\nThe data is used to build classification models to predict students' dropout and academic sucess. The problem is formulated as a three category classification task, in which there is a strong imbalance towards one of the classes.\", 'area': 'Social Science', 'tasks': ['Classification'], 'characteristics': ['Tabular'], 'num_instances': 4424, 'num_features': 36, 'feature_types': ['Real', 'Categorical', 'Integer'], 'demographics': ['Marital Status', 'Education Level', 'Nationality', 'Occupation', 'Gender', 'Age'], 'target_col': ['Target'], 'index_col': None, 'has_missing_values': 'no', 'missing_values_symbol': None, 'year_of_dataset_creation': 2021, 'last_updated': 'Mon Feb 26 2024', 'dataset_doi': '10.24432/C5MC89', 'creators': ['Valentim Realinho', 'Mónica Vieira Martins', 'Jorge Machado', 'Luís Baptista'], 'intro_paper': {'ID': 99, 'type': 'NATIVE', 'title': \"Early prediction of student's performance in higher education: a case study\", 'authors': 'Mónica V. Martins, Daniel Tolledo, Jorge Machado, Luís M. T. Baptista, and Valentim Realinho', 'venue': 'Trends and Applications in Information Systems and Technologies', 'year': 2021, 'journal': 'Advances in Intelligent Systems and Computing series', 'DOI': 'http://www.doi.org/10.1007/978-3-030-72657-7_16', 'URL': 'http://www.worldcist.org/2021/', 'sha': None, 'corpus': None, 'arxiv': None, 'mag': None, 'acl': None, 'pmid': None, 'pmcid': None}, 'additional_info': {'summary': None, 'purpose': 'The dataset was created in a project that aims to contribute to the reduction of academic dropout and failure in higher education, by using machine learning techniques to identify students at risk at an early stage of their academic path, so that strategies to support them can be put into place. \\n\\nThe dataset includes information known at the time of student enrollment – academic path, demographics, and social-economic factors. \\n\\nThe problem is formulated as a three category classification task (dropout, enrolled, and graduate) at the end of the normal duration of the course. \\n', 'funded_by': 'This dataset is supported by program SATDAP - Capacitação da Administração Pública under grant POCI-05-5762-FSE-000191, Portugal.', 'instances_represent': 'Each instance is a student', 'recommended_data_splits': 'The dataset was used, in our project, with a data split of 80% for training and 20% for test.', 'sensitive_data': None, 'preprocessing_description': 'We performed a rigorous data preprocessing to handle data from anomalies, unexplainable outliers, and missing values.', 'variable_info': None, 'citation': 'If you use this dataset in experiments for a scientific publication, please kindly cite our paper: \\nM.V.Martins, D. Tolledo, J. Machado, L. M.T. Baptista, V.Realinho. (2021) \"Early prediction of student’s performance in higher education: a case study\" Trends and Applications in Information Systems and Technologies, vol.1, in Advances in Intelligent Systems and Computing series. Springer. DOI: 10.1007/978-3-030-72657-7_16'}}\n",
            "                                              name     role         type  \\\n",
            "0                                   Marital Status  Feature      Integer   \n",
            "1                                 Application mode  Feature      Integer   \n",
            "2                                Application order  Feature      Integer   \n",
            "3                                           Course  Feature      Integer   \n",
            "4                       Daytime/evening attendance  Feature      Integer   \n",
            "5                           Previous qualification  Feature      Integer   \n",
            "6                   Previous qualification (grade)  Feature   Continuous   \n",
            "7                                      Nacionality  Feature      Integer   \n",
            "8                           Mother's qualification  Feature      Integer   \n",
            "9                           Father's qualification  Feature      Integer   \n",
            "10                             Mother's occupation  Feature      Integer   \n",
            "11                             Father's occupation  Feature      Integer   \n",
            "12                                 Admission grade  Feature   Continuous   \n",
            "13                                       Displaced  Feature      Integer   \n",
            "14                       Educational special needs  Feature      Integer   \n",
            "15                                          Debtor  Feature      Integer   \n",
            "16                         Tuition fees up to date  Feature      Integer   \n",
            "17                                          Gender  Feature      Integer   \n",
            "18                              Scholarship holder  Feature      Integer   \n",
            "19                               Age at enrollment  Feature      Integer   \n",
            "20                                   International  Feature      Integer   \n",
            "21             Curricular units 1st sem (credited)  Feature      Integer   \n",
            "22             Curricular units 1st sem (enrolled)  Feature      Integer   \n",
            "23          Curricular units 1st sem (evaluations)  Feature      Integer   \n",
            "24             Curricular units 1st sem (approved)  Feature      Integer   \n",
            "25                Curricular units 1st sem (grade)  Feature      Integer   \n",
            "26  Curricular units 1st sem (without evaluations)  Feature      Integer   \n",
            "27             Curricular units 2nd sem (credited)  Feature      Integer   \n",
            "28             Curricular units 2nd sem (enrolled)  Feature      Integer   \n",
            "29          Curricular units 2nd sem (evaluations)  Feature      Integer   \n",
            "30             Curricular units 2nd sem (approved)  Feature      Integer   \n",
            "31                Curricular units 2nd sem (grade)  Feature      Integer   \n",
            "32  Curricular units 2nd sem (without evaluations)  Feature      Integer   \n",
            "33                               Unemployment rate  Feature   Continuous   \n",
            "34                                  Inflation rate  Feature   Continuous   \n",
            "35                                             GDP  Feature   Continuous   \n",
            "36                                          Target   Target  Categorical   \n",
            "\n",
            "        demographic                                        description units  \\\n",
            "0    Marital Status  1 – single 2 – married 3 – widower 4 – divorce...  None   \n",
            "1              None  1 - 1st phase - general contingent 2 - Ordinan...  None   \n",
            "2              None  Application order (between 0 - first choice; a...  None   \n",
            "3              None  33 - Biofuel Production Technologies 171 - Ani...  None   \n",
            "4              None                            1 – daytime 0 - evening  None   \n",
            "5   Education Level  1 - Secondary education 2 - Higher education -...  None   \n",
            "6              None  Grade of previous qualification (between 0 and...  None   \n",
            "7       Nationality  1 - Portuguese; 2 - German; 6 - Spanish; 11 - ...  None   \n",
            "8   Education Level  1 - Secondary Education - 12th Year of Schooli...  None   \n",
            "9   Education Level  1 - Secondary Education - 12th Year of Schooli...  None   \n",
            "10       Occupation  0 - Student 1 - Representatives of the Legisla...  None   \n",
            "11       Occupation  0 - Student 1 - Representatives of the Legisla...  None   \n",
            "12             None                Admission grade (between 0 and 200)  None   \n",
            "13             None                                     1 – yes 0 – no  None   \n",
            "14             None                                     1 – yes 0 – no  None   \n",
            "15             None                                     1 – yes 0 – no  None   \n",
            "16             None                                     1 – yes 0 – no  None   \n",
            "17           Gender                                1 – male 0 – female  None   \n",
            "18             None                                     1 – yes 0 – no  None   \n",
            "19              Age                       Age of studend at enrollment  None   \n",
            "20             None                                     1 – yes 0 – no  None   \n",
            "21             None  Number of curricular units credited in the 1st...  None   \n",
            "22             None  Number of curricular units enrolled in the 1st...  None   \n",
            "23             None  Number of evaluations to curricular units in t...  None   \n",
            "24             None  Number of curricular units approved in the 1st...  None   \n",
            "25             None  Grade average in the 1st semester (between 0 a...  None   \n",
            "26             None  Number of curricular units without evalutions ...  None   \n",
            "27             None  Number of curricular units credited in the 2nd...  None   \n",
            "28             None  Number of curricular units enrolled in the 2nd...  None   \n",
            "29             None  Number of evaluations to curricular units in t...  None   \n",
            "30             None  Number of curricular units approved in the 2nd...  None   \n",
            "31             None  Grade average in the 2nd semester (between 0 a...  None   \n",
            "32             None  Number of curricular units without evalutions ...  None   \n",
            "33             None                              Unemployment rate (%)  None   \n",
            "34             None                                 Inflation rate (%)  None   \n",
            "35             None                                                GDP  None   \n",
            "36             None  Target. The problem is formulated as a three c...  None   \n",
            "\n",
            "   missing_values  \n",
            "0              no  \n",
            "1              no  \n",
            "2              no  \n",
            "3              no  \n",
            "4              no  \n",
            "5              no  \n",
            "6              no  \n",
            "7              no  \n",
            "8              no  \n",
            "9              no  \n",
            "10             no  \n",
            "11             no  \n",
            "12             no  \n",
            "13             no  \n",
            "14             no  \n",
            "15             no  \n",
            "16             no  \n",
            "17             no  \n",
            "18             no  \n",
            "19             no  \n",
            "20             no  \n",
            "21             no  \n",
            "22             no  \n",
            "23             no  \n",
            "24             no  \n",
            "25             no  \n",
            "26             no  \n",
            "27             no  \n",
            "28             no  \n",
            "29             no  \n",
            "30             no  \n",
            "31             no  \n",
            "32             no  \n",
            "33             no  \n",
            "34             no  \n",
            "35             no  \n",
            "36             no  \n"
          ]
        }
      ]
    },
    {
      "cell_type": "code",
      "source": [
        "#Categorical Feature Counts\n",
        "\n",
        "import pandas as pd\n",
        "from ucimlrepo import fetch_ucirepo\n",
        "\n",
        "# Step 1: Load the dataset\n",
        "dataset = fetch_ucirepo(id=697)\n",
        "X = dataset.data.features\n",
        "\n",
        "# Data type of each column\n",
        "dtypes = X.dtypes\n",
        "\n",
        "#Count by type\n",
        "num_int = (dtypes == 'int64').sum()\n",
        "num_float = (dtypes == 'float64').sum()\n",
        "num_object = (dtypes == 'object').sum()\n",
        "\n",
        "print(\"Counts for each feature type:\")\n",
        "print(f\"Integer features: {num_int}\")\n",
        "print(f\"Continuous (float) features: {num_float}\")\n",
        "print(f\"Categorical (object) features: {num_object}\")"
      ],
      "metadata": {
        "colab": {
          "base_uri": "https://localhost:8080/"
        },
        "id": "GL6rHZ5PwOpY",
        "outputId": "a1c350c5-c80b-4639-b0f7-f2189c104a2b"
      },
      "execution_count": 5,
      "outputs": [
        {
          "output_type": "stream",
          "name": "stdout",
          "text": [
            "Counts for each feature type:\n",
            "Integer features: 29\n",
            "Continuous (float) features: 7\n",
            "Categorical (object) features: 0\n"
          ]
        }
      ]
    },
    {
      "cell_type": "code",
      "source": [
        "#Corrleation between the numeric features to the target variable using Pearson correlation\n",
        "\n",
        "import pandas as pd\n",
        "from ucimlrepo import fetch_ucirepo\n",
        "from sklearn.preprocessing import LabelEncoder\n",
        "\n",
        "# Load dataset\n",
        "dataset = fetch_ucirepo(id=856)\n",
        "X = dataset.data.features\n",
        "y = dataset.data.targets\n",
        "\n",
        "# Encode target labels - converting categorical labels into numeric codes & turning the numpy array to a 1-dimensional array\n",
        "y_encoded = LabelEncoder().fit_transform(y.values.ravel())\n",
        "\n",
        "# Pearson correlation for numeric features\n",
        "numeric_cols = X.select_dtypes(include=['float64', 'int64']).columns\n",
        "correlation_df = X[numeric_cols].corrwith(pd.Series(y_encoded)).abs().sort_values(ascending=False).to_frame(name='Correlation')\n",
        "\n",
        "# Show results\n",
        "print(\"Pearson Correlation (Numeric Features):\\n\", correlation_df)"
      ],
      "metadata": {
        "colab": {
          "base_uri": "https://localhost:8080/"
        },
        "id": "Mk9Wo3BYg8xU",
        "outputId": "319ead37-6243-4f8f-b6ad-142c0d14ea10"
      },
      "execution_count": 6,
      "outputs": [
        {
          "output_type": "stream",
          "name": "stdout",
          "text": [
            "Pearson Correlation (Numeric Features):\n",
            "                                                     Correlation\n",
            "Sex                                                    0.335533\n",
            "Cumulative grade point average in the last seme...     0.315493\n",
            "Expected Cumulative grade point average in the ...     0.248588\n",
            "Impact of your projects/activities on your success     0.203273\n",
            "Reading frequency (non-scientific books/journals)      0.195617\n",
            "Attendance to the seminars/conferences related ...     0.184763\n",
            "Additional work                                        0.167445\n",
            "Total salary if available                              0.166352\n",
            "Transportation to the university                       0.156289\n",
            "Discussion improves my interest and success in ...     0.146547\n",
            "Course ID                                              0.142166\n",
            "Attendance to classes                                  0.139564\n",
            "Flip-classroom                                         0.110617\n",
            "Graduated high-school type                             0.104821\n",
            "Student Age                                            0.095251\n",
            "Listening in classes                                   0.085137\n",
            "Number of sisters/brothers (if available)              0.084470\n",
            "Preparation to midterm exams 2                         0.073783\n",
            "Parental status                                        0.066379\n",
            "Mother's education                                     0.066318\n",
            "Father's education                                     0.063504\n",
            "Regular artistic or sports activity                    0.062993\n",
            "Do you have a partner                                  0.051778\n",
            "Taking notes in classes                                0.044862\n",
            "Father's occupation                                    0.044268\n",
            "Weekly study hours                                     0.033065\n",
            "Mother's occupation                                    0.030747\n",
            "Scholarship type                                       0.023963\n",
            "Accomodation type in Cyprus                            0.023683\n",
            "Preparation to midterm exams 1                         0.014638\n",
            "Reading frequency (scientific books/journals)          0.003189\n"
          ]
        }
      ]
    },
    {
      "cell_type": "code",
      "source": [
        "# Mean and Correlation\n",
        "# Select continuous and integer columns\n",
        "numeric_X = X.select_dtypes(include=['int64', 'float64'])\n",
        "\n",
        "# Calculate mean and standard deviation\n",
        "means = numeric_X.mean()\n",
        "stds = numeric_X.std()\n",
        "\n",
        "# Combine into one DataFrame\n",
        "summary = pd.DataFrame({\n",
        "    'Mean': means,\n",
        "    'Standard Deviation': stds\n",
        "})\n",
        "\n",
        "# Display the summary\n",
        "print(\"Mean and Standard Deviation of Each Feature:\")\n",
        "print(summary)"
      ],
      "metadata": {
        "colab": {
          "base_uri": "https://localhost:8080/"
        },
        "id": "qSv273MT38eg",
        "outputId": "24e1cc28-898c-4966-d6c0-4ecdfc083ea9"
      },
      "execution_count": 7,
      "outputs": [
        {
          "output_type": "stream",
          "name": "stdout",
          "text": [
            "Mean and Standard Deviation of Each Feature:\n",
            "                                                        Mean  \\\n",
            "Student Age                                         1.620690   \n",
            "Sex                                                 1.600000   \n",
            "Graduated high-school type                          1.944828   \n",
            "Scholarship type                                    3.572414   \n",
            "Additional work                                     1.662069   \n",
            "Regular artistic or sports activity                 1.600000   \n",
            "Do you have a partner                               1.579310   \n",
            "Total salary if available                           1.627586   \n",
            "Transportation to the university                    1.620690   \n",
            "Accomodation type in Cyprus                         1.731034   \n",
            "Mother's education                                  2.282759   \n",
            "Father's education                                  2.634483   \n",
            "Number of sisters/brothers (if available)           2.806897   \n",
            "Parental status                                     1.172414   \n",
            "Mother's occupation                                 2.358621   \n",
            "Father's occupation                                 2.806897   \n",
            "Weekly study hours                                  2.200000   \n",
            "Reading frequency (non-scientific books/journals)   1.944828   \n",
            "Reading frequency (scientific books/journals)       2.013793   \n",
            "Attendance to the seminars/conferences related ...  1.213793   \n",
            "Impact of your projects/activities on your success  1.206897   \n",
            "Attendance to classes                               1.241379   \n",
            "Preparation to midterm exams 1                      1.337931   \n",
            "Preparation to midterm exams 2                      1.165517   \n",
            "Taking notes in classes                             2.544828   \n",
            "Listening in classes                                2.055172   \n",
            "Discussion improves my interest and success in ...  2.393103   \n",
            "Flip-classroom                                      1.806897   \n",
            "Cumulative grade point average in the last seme...  3.124138   \n",
            "Expected Cumulative grade point average in the ...  2.724138   \n",
            "Course ID                                           4.131034   \n",
            "\n",
            "                                                    Standard Deviation  \n",
            "Student Age                                                   0.613154  \n",
            "Sex                                                           0.491596  \n",
            "Graduated high-school type                                    0.537216  \n",
            "Scholarship type                                              0.805750  \n",
            "Additional work                                               0.474644  \n",
            "Regular artistic or sports activity                           0.491596  \n",
            "Do you have a partner                                         0.495381  \n",
            "Total salary if available                                     1.020245  \n",
            "Transportation to the university                              1.061112  \n",
            "Accomodation type in Cyprus                                   0.783999  \n",
            "Mother's education                                            1.223062  \n",
            "Father's education                                            1.147544  \n",
            "Number of sisters/brothers (if available)                     1.360640  \n",
            "Parental status                                               0.490816  \n",
            "Mother's occupation                                           0.805156  \n",
            "Father's occupation                                           1.329664  \n",
            "Weekly study hours                                            0.917424  \n",
            "Reading frequency (non-scientific books/journals)             0.562476  \n",
            "Reading frequency (scientific books/journals)                 0.539884  \n",
            "Attendance to the seminars/conferences related ...            0.411404  \n",
            "Impact of your projects/activities on your success            0.588035  \n",
            "Attendance to classes                                         0.429403  \n",
            "Preparation to midterm exams 1                                0.614870  \n",
            "Preparation to midterm exams 2                                0.408483  \n",
            "Taking notes in classes                                       0.564940  \n",
            "Listening in classes                                          0.674736  \n",
            "Discussion improves my interest and success in ...            0.604343  \n",
            "Flip-classroom                                                0.810492  \n",
            "Cumulative grade point average in the last seme...            1.301083  \n",
            "Expected Cumulative grade point average in the ...            0.916536  \n",
            "Course ID                                                     3.260145  \n"
          ]
        }
      ]
    },
    {
      "cell_type": "code",
      "source": [
        "# Distribution of variables in target column\n",
        "\n",
        "from ucimlrepo import fetch_ucirepo\n",
        "import pandas as pd\n",
        "import matplotlib.pyplot as plt\n",
        "\n",
        "# Load dataset\n",
        "dataset = fetch_ucirepo(id=697)\n",
        "y = dataset.data.targets\n",
        "\n",
        "# Flatten to 1D array\n",
        "y = y.values.ravel()\n",
        "\n",
        "# Show value counts\n",
        "counts = pd.Series(y).value_counts()\n",
        "print(\"Target Distribution:\")\n",
        "print(counts)\n",
        "\n",
        "# Plot\n",
        "counts.plot(kind='bar', color=['red', 'blue', 'green'])\n",
        "plt.title(\"Target Variable Distribution\")\n",
        "plt.xlabel(\"Class\")\n",
        "plt.ylabel(\"Count\")\n",
        "plt.xticks(rotation=0)\n",
        "plt.tight_layout()\n",
        "plt.show()"
      ],
      "metadata": {
        "colab": {
          "base_uri": "https://localhost:8080/",
          "height": 574
        },
        "id": "a4B7Ou1b47Xe",
        "outputId": "e604ef8e-4ef8-44fb-c670-ac9d9ceca0a2"
      },
      "execution_count": 8,
      "outputs": [
        {
          "output_type": "stream",
          "name": "stdout",
          "text": [
            "Target Distribution:\n",
            "Graduate    2209\n",
            "Dropout     1421\n",
            "Enrolled     794\n",
            "Name: count, dtype: int64\n"
          ]
        },
        {
          "output_type": "display_data",
          "data": {
            "text/plain": [
              "<Figure size 640x480 with 1 Axes>"
            ],
            "image/png": "[encoded data removed]"
          },
          "metadata": {}
        }
      ]
    },
    {
      "cell_type": "code",
      "source": [
        "#Grade distribution under each target variable - Dropout/Enrolled/Graduate\n",
        "import pandas as pd\n",
        "import seaborn as sns\n",
        "import matplotlib.pyplot as plt\n",
        "\n",
        "# Load dataset\n",
        "dataset = fetch_ucirepo(id=697)\n",
        "df = dataset.data.original\n",
        "\n",
        "# Clean column names\n",
        "df.columns = df.columns.str.strip()\n",
        "\n",
        "# Drop rows with missing data in required columns\n",
        "cols_to_plot = [\n",
        "    'Admission grade',\n",
        "    'Curricular units 1st sem (grade)',\n",
        "    'Curricular units 2nd sem (grade)',\n",
        "    'Target'\n",
        "]\n",
        "df_filtered = df.dropna(subset=cols_to_plot)\n",
        "\n",
        "# Set seaborn style\n",
        "sns.set(style=\"whitegrid\")\n",
        "\n",
        "# Create subplots\n",
        "fig, axes = plt.subplots(1, 3, figsize=(18, 6))\n",
        "\n",
        "# Plot GPA distribution by target (Dropout/Enrolled/Graduate)\n",
        "sns.boxplot(data=df_filtered, x='Target', y='Admission grade', ax=axes[0])\n",
        "axes[0].set_title('Admission Grade')\n",
        "\n",
        "sns.boxplot(data=df_filtered, x='Target', y='Curricular units 1st sem (grade)', ax=axes[1])\n",
        "axes[1].set_title('1st Semester GPA')\n",
        "\n",
        "sns.boxplot(data=df_filtered, x='Target', y='Curricular units 2nd sem (grade)', ax=axes[2])\n",
        "axes[2].set_title('2nd Semester GPA')\n",
        "\n",
        "plt.show()"
      ],
      "metadata": {
        "colab": {
          "base_uri": "https://localhost:8080/",
          "height": 451
        },
        "id": "w3gBWEkrLbA9",
        "outputId": "d47305e8-a138-48ed-d087-e949080f2cd0"
      },
      "execution_count": 9,
      "outputs": [
        {
          "output_type": "display_data",
          "data": {
            "text/plain": [
              "<Figure size 1800x600 with 3 Axes>"
            ],
            "image/png": "[encoded data removed]"
          },
          "metadata": {}
        }
      ]
    },
    {
      "cell_type": "code",
      "source": [
        "#Handling Imbalanced Dataset - Method 1 - SMOTE analysis\n",
        "\n",
        "from ucimlrepo import fetch_ucirepo\n",
        "import pandas as pd\n",
        "from sklearn.ensemble import RandomForestClassifier\n",
        "from sklearn.preprocessing import LabelEncoder\n",
        "from sklearn.model_selection import train_test_split\n",
        "from sklearn.metrics import classification_report\n",
        "from imblearn.over_sampling import SMOTE\n",
        "from collections import Counter\n",
        "\n",
        "# Load dataset\n",
        "dataset = fetch_ucirepo(id=697)\n",
        "df = dataset.data.original\n",
        "df.columns = df.columns.str.strip()  # To remove spaces in column names\n",
        "\n",
        "# Drop rows with missing target\n",
        "df = df.dropna(subset=['Target'])\n",
        "\n",
        "# Encode categorical variables\n",
        "df_encoded = df.copy()\n",
        "for col in df_encoded.select_dtypes(include='object'):\n",
        "    df_encoded[col] = LabelEncoder().fit_transform(df_encoded[col].astype(str))\n",
        "\n",
        "# Define features and target\n",
        "X = df_encoded.drop(columns=['Target'])\n",
        "y = df_encoded['Target']\n",
        "\n",
        "# Check class distribution before balancing\n",
        "print(\"Original class distribution:\", Counter(y))\n",
        "\n",
        "# Train-test split\n",
        "X_train, X_test, y_train, y_test = train_test_split(X, y, test_size=0.3, random_state=42)\n",
        "\n",
        "# Apply SMOTE to balance training data\n",
        "smote = SMOTE(random_state=42)\n",
        "X_train_smote, y_train_smote = smote.fit_resample(X_train, y_train)\n",
        "\n",
        "# Check class distribution after SMOTE\n",
        "print(\"Balanced class distribution:\", Counter(y_train_smote))\n",
        "\n",
        "# Train Random Forest model on balanced data\n",
        "model = RandomForestClassifier(random_state=42)\n",
        "model.fit(X_train_smote, y_train_smote)\n",
        "\n",
        "# Evaluate on training data\n",
        "train_preds = model.predict(X_train)\n",
        "print(\"\\nTraining Performance:\")\n",
        "print(classification_report(y_train, train_preds))\n",
        "\n",
        "# Evaluate on test data\n",
        "y_pred = model.predict(X_test)\n",
        "print(\"\\nClassification Report after SMOTE training:\")\n",
        "print(classification_report(y_test, y_pred))"
      ],
      "metadata": {
        "colab": {
          "base_uri": "https://localhost:8080/"
        },
        "id": "8Sss2CculnoJ",
        "outputId": "6e73f450-16ab-44b4-e0f0-f4d54654405a"
      },
      "execution_count": 10,
      "outputs": [
        {
          "output_type": "stream",
          "name": "stdout",
          "text": [
            "Original class distribution: Counter({2: 2209, 0: 1421, 1: 794})\n",
            "Balanced class distribution: Counter({0: 1567, 2: 1567, 1: 1567})\n",
            "\n",
            "Training Performance:\n",
            "              precision    recall  f1-score   support\n",
            "\n",
            "           0       1.00      1.00      1.00       980\n",
            "           1       1.00      1.00      1.00       549\n",
            "           2       1.00      1.00      1.00      1567\n",
            "\n",
            "    accuracy                           1.00      3096\n",
            "   macro avg       1.00      1.00      1.00      3096\n",
            "weighted avg       1.00      1.00      1.00      3096\n",
            "\n",
            "\n",
            "Classification Report after SMOTE training:\n",
            "              precision    recall  f1-score   support\n",
            "\n",
            "           0       0.84      0.73      0.78       441\n",
            "           1       0.49      0.49      0.49       245\n",
            "           2       0.81      0.88      0.84       642\n",
            "\n",
            "    accuracy                           0.76      1328\n",
            "   macro avg       0.71      0.70      0.70      1328\n",
            "weighted avg       0.76      0.76      0.76      1328\n",
            "\n"
          ]
        }
      ]
    },
    {
      "cell_type": "code",
      "source": [
        "#Handling Imbalanced Dataset - Method 2 - Oversampling\n",
        "from imblearn.over_sampling import RandomOverSampler\n",
        "from collections import Counter\n",
        "from sklearn.ensemble import RandomForestClassifier\n",
        "from sklearn.metrics import classification_report\n",
        "\n",
        "# 1. Check class distribution before oversampling\n",
        "print(\"Before oversampling:\", Counter(y_train))\n",
        "\n",
        "# 2. Apply random oversampling\n",
        "oversampler = RandomOverSampler(random_state=42)\n",
        "X_train_over, y_train_over = oversampler.fit_resample(X_train, y_train)\n",
        "\n",
        "# 3. Check class distribution after oversampling\n",
        "print(\"After oversampling:\", Counter(y_train_over))\n",
        "\n",
        "# 4. Train a classifier on the oversampled data\n",
        "model = RandomForestClassifier(random_state=42)\n",
        "model.fit(X_train_over, y_train_over)\n",
        "\n",
        "# 5. Predict and evaluate on test set\n",
        "y_pred = model.predict(X_test)\n",
        "print(\"Performance after oversampling:\")\n",
        "print(classification_report(y_test, y_pred))"
      ],
      "metadata": {
        "colab": {
          "base_uri": "https://localhost:8080/"
        },
        "id": "LmSJYvlLpPNb",
        "outputId": "895bb747-6d0c-4fa1-e69d-a0e4e77c2c3c"
      },
      "execution_count": 11,
      "outputs": [
        {
          "output_type": "stream",
          "name": "stdout",
          "text": [
            "Before oversampling: Counter({2: 1567, 0: 980, 1: 549})\n",
            "After oversampling: Counter({0: 1567, 2: 1567, 1: 1567})\n",
            "Performance after oversampling:\n",
            "              precision    recall  f1-score   support\n",
            "\n",
            "           0       0.82      0.77      0.79       441\n",
            "           1       0.57      0.46      0.51       245\n",
            "           2       0.81      0.90      0.85       642\n",
            "\n",
            "    accuracy                           0.78      1328\n",
            "   macro avg       0.73      0.71      0.72      1328\n",
            "weighted avg       0.77      0.78      0.77      1328\n",
            "\n"
          ]
        }
      ]
    },
    {
      "cell_type": "code",
      "source": [
        "#Handling Imbalanced Dataset - Method 3 - Undersampling\n",
        "\n",
        "from imblearn.under_sampling import RandomUnderSampler\n",
        "\n",
        "# Apply undersampling to the majority class (Enrolled & Graduate)\n",
        "undersampler = RandomUnderSampler(random_state=42)\n",
        "X_train_under, y_train_under = undersampler.fit_resample(X_train, y_train)\n",
        "\n",
        "print(\"Undersampled class distribution:\", Counter(y_train_under))\n",
        "\n",
        "# Train a simple model\n",
        "model = RandomForestClassifier(random_state=42)\n",
        "model.fit(X_train_under, y_train_under)\n",
        "\n",
        "# Evaluate\n",
        "y_pred = model.predict(X_test)\n",
        "print(\"Performance after undersampling:\")\n",
        "print(classification_report(y_test, y_pred))"
      ],
      "metadata": {
        "colab": {
          "base_uri": "https://localhost:8080/"
        },
        "id": "bSTcAggEpU2n",
        "outputId": "764e7766-ce11-4aa6-b6f3-6d618ebb533f"
      },
      "execution_count": 12,
      "outputs": [
        {
          "output_type": "stream",
          "name": "stdout",
          "text": [
            "Undersampled class distribution: Counter({0: 549, 1: 549, 2: 549})\n",
            "Performance after undersampling:\n",
            "              precision    recall  f1-score   support\n",
            "\n",
            "           0       0.85      0.69      0.76       441\n",
            "           1       0.42      0.62      0.50       245\n",
            "           2       0.84      0.79      0.82       642\n",
            "\n",
            "    accuracy                           0.73      1328\n",
            "   macro avg       0.70      0.70      0.69      1328\n",
            "weighted avg       0.76      0.73      0.74      1328\n",
            "\n"
          ]
        }
      ]
    }
  ]
}