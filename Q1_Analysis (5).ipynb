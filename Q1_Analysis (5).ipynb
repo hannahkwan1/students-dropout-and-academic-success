{
  "nbformat": 4,
  "nbformat_minor": 0,
  "metadata": {
    "colab": {
      "provenance": []
    },
    "kernelspec": {
      "name": "python3",
      "display_name": "Python 3"
    },
    "language_info": {
      "name": "python"
    }
  },
  "cells": [
    {
      "cell_type": "code",
      "source": [
        "pip install ucimlrepo\n"
      ],
      "metadata": {
        "colab": {
          "base_uri": "https://localhost:8080/"
        },
        "id": "zgP2o7e5PqQa",
        "outputId": "043a89d2-64dc-4a7d-ac7a-da01205600d8"
      },
      "execution_count": 3,
      "outputs": [
        {
          "output_type": "stream",
          "name": "stdout",
          "text": [
            "Collecting ucimlrepo\n",
            "  Downloading ucimlrepo-0.0.7-py3-none-any.whl.metadata (5.5 kB)\n",
            "Requirement already satisfied: pandas>=1.0.0 in /usr/local/lib/python3.11/dist-packages (from ucimlrepo) (2.2.2)\n",
            "Requirement already satisfied: certifi>=2020.12.5 in /usr/local/lib/python3.11/dist-packages (from ucimlrepo) (2025.6.15)\n",
            "Requirement already satisfied: numpy>=1.23.2 in /usr/local/lib/python3.11/dist-packages (from pandas>=1.0.0->ucimlrepo) (2.0.2)\n",
            "Requirement already satisfied: python-dateutil>=2.8.2 in /usr/local/lib/python3.11/dist-packages (from pandas>=1.0.0->ucimlrepo) (2.9.0.post0)\n",
            "Requirement already satisfied: pytz>=2020.1 in /usr/local/lib/python3.11/dist-packages (from pandas>=1.0.0->ucimlrepo) (2025.2)\n",
            "Requirement already satisfied: tzdata>=2022.7 in /usr/local/lib/python3.11/dist-packages (from pandas>=1.0.0->ucimlrepo) (2025.2)\n",
            "Requirement already satisfied: six>=1.5 in /usr/local/lib/python3.11/dist-packages (from python-dateutil>=2.8.2->pandas>=1.0.0->ucimlrepo) (1.17.0)\n",
            "Downloading ucimlrepo-0.0.7-py3-none-any.whl (8.0 kB)\n",
            "Installing collected packages: ucimlrepo\n",
            "Successfully installed ucimlrepo-0.0.7\n"
          ]
        }
      ]
    },
    {
      "cell_type": "code",
      "execution_count": 4,
      "metadata": {
        "colab": {
          "base_uri": "https://localhost:8080/",
          "height": 854
        },
        "id": "MgVBn4QwPXzp",
        "outputId": "53e6122c-f8ba-49c5-b032-3fae49e2cb14"
      },
      "outputs": [
        {
          "output_type": "stream",
          "name": "stderr",
          "text": [
            "/usr/local/lib/python3.11/dist-packages/sklearn/linear_model/_logistic.py:465: ConvergenceWarning: lbfgs failed to converge (status=1):\n",
            "STOP: TOTAL NO. OF ITERATIONS REACHED LIMIT.\n",
            "\n",
            "Increase the number of iterations (max_iter) or scale the data as shown in:\n",
            "    https://scikit-learn.org/stable/modules/preprocessing.html\n",
            "Please also refer to the documentation for alternative solver options:\n",
            "    https://scikit-learn.org/stable/modules/linear_model.html#logistic-regression\n",
            "  n_iter_i = _check_optimize_result(\n"
          ]
        },
        {
          "output_type": "stream",
          "name": "stdout",
          "text": [
            "Classification Report:\n",
            "              precision    recall  f1-score   support\n",
            "\n",
            "           0       0.84      0.93      0.89       569\n",
            "           1       0.85      0.68      0.76       316\n",
            "\n",
            "    accuracy                           0.84       885\n",
            "   macro avg       0.85      0.81      0.82       885\n",
            "weighted avg       0.84      0.84      0.84       885\n",
            "\n",
            "\n",
            "Confusion Matrix:\n",
            "[[531  38]\n",
            " [100 216]]\n"
          ]
        },
        {
          "output_type": "display_data",
          "data": {
            "text/plain": [
              "<Figure size 640x480 with 2 Axes>"
            ],
            "image/png": "[encoded data removed]"
          },
          "metadata": {}
        }
      ],
      "source": [
        "# Import necessary libraries\n",
        "import pandas as pd\n",
        "import seaborn as sns\n",
        "import matplotlib.pyplot as plt\n",
        "from ucimlrepo import fetch_ucirepo\n",
        "from sklearn.model_selection import train_test_split\n",
        "from sklearn.linear_model import LogisticRegression\n",
        "from sklearn.metrics import classification_report, confusion_matrix, ConfusionMatrixDisplay\n",
        "\n",
        "# Step 1: Fetch dataset\n",
        "dataset = fetch_ucirepo(id=697)\n",
        "\n",
        "# Step 2: Extract features and targets\n",
        "X = dataset.data.features\n",
        "y = dataset.data.targets\n",
        "\n",
        "# Step 3: Convert 'Target' to binary (Dropout = 1, others = 0)\n",
        "y_binary = y['Target'].apply(lambda x: 1 if x == 'Dropout' else 0)\n",
        "\n",
        "# Step 4: One-hot encode categorical features\n",
        "X_encoded = pd.get_dummies(X, drop_first=True)\n",
        "\n",
        "# Step 5: Split data into training and testing sets\n",
        "X_train, X_test, y_train, y_test = train_test_split(X_encoded, y_binary, test_size=0.2, random_state=42)\n",
        "\n",
        "# Step 6: Train logistic regression model\n",
        "logreg = LogisticRegression(max_iter=1000)\n",
        "logreg.fit(X_train, y_train)\n",
        "\n",
        "# Step 7: Predict on test data\n",
        "y_pred = logreg.predict(X_test)\n",
        "\n",
        "# Step 8: Evaluate model\n",
        "print(\"Classification Report:\")\n",
        "print(classification_report(y_test, y_pred))\n",
        "\n",
        "print(\"\\nConfusion Matrix:\")\n",
        "cm = confusion_matrix(y_test, y_pred)\n",
        "print(cm)\n",
        "\n",
        "# Step 9: Visualize confusion matrix\n",
        "disp = ConfusionMatrixDisplay(confusion_matrix=cm, display_labels=[\"Not Dropout\", \"Dropout\"])\n",
        "disp.plot(cmap='Blues')\n",
        "plt.title(\"Confusion Matrix\")\n",
        "plt.show()"
      ]
    },
    {
      "cell_type": "code",
      "source": [],
      "metadata": {
        "id": "-has6iO6wQeo"
      },
      "execution_count": null,
      "outputs": []
    },
    {
      "cell_type": "code",
      "source": [
        "# Import necessary libraries & added SMOTE before training\n",
        "import pandas as pd\n",
        "import seaborn as sns\n",
        "import matplotlib.pyplot as plt\n",
        "from ucimlrepo import fetch_ucirepo\n",
        "from sklearn.model_selection import train_test_split\n",
        "from sklearn.linear_model import LogisticRegression\n",
        "from sklearn.metrics import classification_report, confusion_matrix, ConfusionMatrixDisplay\n",
        "from imblearn.over_sampling import SMOTE\n",
        "\n",
        "# Step 1: Fetch dataset\n",
        "dataset = fetch_ucirepo(id=697)\n",
        "\n",
        "# Step 2: Extract features and targets\n",
        "X = dataset.data.features\n",
        "y = dataset.data.targets\n",
        "\n",
        "# Step 3: Convert 'Target' to binary (Dropout = 1, others = 0)\n",
        "y_binary = y['Target'].apply(lambda x: 1 if x == 'Dropout' else 0)\n",
        "\n",
        "# Step 4: One-hot encode categorical features\n",
        "X_encoded = pd.get_dummies(X, drop_first=True)\n",
        "\n",
        "# Step 5: Split data into training and testing sets\n",
        "X_train, X_test, y_train, y_test = train_test_split(X_encoded, y_binary, test_size=0.2, random_state=42)\n",
        "\n",
        "# Step 6: Train logistic regression model\n",
        "logreg = LogisticRegression(max_iter=1000)\n",
        "smote = SMOTE(random_state=42)\n",
        "X_train_smote, y_train_smote = smote.fit_resample(X_train, y_train)\n",
        "logreg.fit(X_train_smote, y_train_smote)\n",
        "\n",
        "# Step 7: Predict on test data\n",
        "y_pred = logreg.predict(X_test)\n",
        "\n",
        "# Step 8: Evaluate model\n",
        "print(\"Classification Report after SMOTE:\")\n",
        "print(classification_report(y_test, y_pred))\n",
        "\n",
        "print(\"\\nConfusion Matrix after SMOTE:\")\n",
        "cm = confusion_matrix(y_test, y_pred)\n",
        "print(cm)\n",
        "\n",
        "# Step 9: Visualize confusion matrix\n",
        "disp = ConfusionMatrixDisplay(confusion_matrix=cm, display_labels=[\"Not Dropout\", \"Dropout\"])\n",
        "disp.plot(cmap='Blues')\n",
        "plt.title(\"Confusion Matrix after SMOTE\")\n",
        "plt.show()"
      ],
      "metadata": {
        "colab": {
          "base_uri": "https://localhost:8080/",
          "height": 854
        },
        "id": "Lgxe7zVhPpdJ",
        "outputId": "7b57962b-9224-47bd-e7cb-16595642cf4a"
      },
      "execution_count": 5,
      "outputs": [
        {
          "output_type": "stream",
          "name": "stdout",
          "text": [
            "Classification Report after SMOTE:\n",
            "              precision    recall  f1-score   support\n",
            "\n",
            "           0       0.87      0.88      0.87       569\n",
            "           1       0.77      0.76      0.77       316\n",
            "\n",
            "    accuracy                           0.83       885\n",
            "   macro avg       0.82      0.82      0.82       885\n",
            "weighted avg       0.83      0.83      0.83       885\n",
            "\n",
            "\n",
            "Confusion Matrix after SMOTE:\n",
            "[[498  71]\n",
            " [ 76 240]]\n"
          ]
        },
        {
          "output_type": "stream",
          "name": "stderr",
          "text": [
            "/usr/local/lib/python3.11/dist-packages/sklearn/linear_model/_logistic.py:465: ConvergenceWarning: lbfgs failed to converge (status=1):\n",
            "STOP: TOTAL NO. OF ITERATIONS REACHED LIMIT.\n",
            "\n",
            "Increase the number of iterations (max_iter) or scale the data as shown in:\n",
            "    https://scikit-learn.org/stable/modules/preprocessing.html\n",
            "Please also refer to the documentation for alternative solver options:\n",
            "    https://scikit-learn.org/stable/modules/linear_model.html#logistic-regression\n",
            "  n_iter_i = _check_optimize_result(\n"
          ]
        },
        {
          "output_type": "display_data",
          "data": {
            "text/plain": [
              "<Figure size 640x480 with 2 Axes>"
            ],
            "image/png": "[encoded data removed]"
          },
          "metadata": {}
        }
      ]
    },
    {
      "cell_type": "code",
      "source": [
        "#Most common mother's occupations among neighbors of dropout students\n",
        "\n",
        "import pandas as pd\n",
        "from ucimlrepo import fetch_ucirepo\n",
        "from sklearn.preprocessing import StandardScaler\n",
        "from sklearn.neighbors import NearestNeighbors\n",
        "\n",
        "# Step 1: Load dataset\n",
        "dataset = fetch_ucirepo(id=697)\n",
        "X = dataset.data.features\n",
        "y = dataset.data.targets['Target']  # 'Dropout', 'Graduate', 'Enrolled'\n",
        "\n",
        "# Step 2: Combine features and target\n",
        "df = X.copy()\n",
        "df['Target'] = y\n",
        "\n",
        "# Step 3: Save raw Mjob column for later reference\n",
        "mjob_column = X[\"Mother's occupation\"].copy()\n",
        "\n",
        "# Step 4: One-hot encode features for KNN (excluding the target)\n",
        "X_encoded = pd.get_dummies(X, drop_first=True)\n",
        "\n",
        "# Step 5: Scale features (important for KNN distance)\n",
        "scaler = StandardScaler()\n",
        "X_scaled = scaler.fit_transform(X_encoded)\n",
        "\n",
        "# Step 6: Fit KNN model to full data\n",
        "knn = NearestNeighbors(n_neighbors=6)  # 1 self + 5 nearest neighbors\n",
        "knn.fit(X_scaled)\n",
        "\n",
        "# Step 7: Get indices of dropout students\n",
        "dropout_indices = df[df['Target'] == 'Graduate'].index\n",
        "\n",
        "# Step 8: Collect mother's jobs of neighbors (excluding self)\n",
        "mjob_neighbors = []\n",
        "\n",
        "for idx in dropout_indices:\n",
        "    distances, neighbor_idxs = knn.kneighbors([X_scaled[idx]])\n",
        "    for neighbor_idx in neighbor_idxs[0][1:]:  # Skip the first one (self)\n",
        "        mjob = mjob_column.iloc[neighbor_idx]  # Pull raw Mjob from original data\n",
        "        mjob_neighbors.append(mjob)\n",
        "\n",
        "# Step 9: Analyze the distribution of mother's jobs\n",
        "mjob_counts = pd.Series(mjob_neighbors).value_counts()\n",
        "\n",
        "# Step 10: Display the result\n",
        "print(\"Most common mother's occupations among neighbors of graduated students:\\n\")\n",
        "print(mjob_counts.head(5))"
      ],
      "metadata": {
        "colab": {
          "base_uri": "https://localhost:8080/"
        },
        "id": "TVgpizXQrvTd",
        "outputId": "f8990ac5-d54d-46fb-f901-9bb893099a15"
      },
      "execution_count": 6,
      "outputs": [
        {
          "output_type": "stream",
          "name": "stdout",
          "text": [
            "Most common mother's occupations among neighbors of graduated students:\n",
            "\n",
            "9    4206\n",
            "4    1995\n",
            "5    1404\n",
            "3     900\n",
            "7     817\n",
            "Name: count, dtype: int64\n"
          ]
        }
      ]
    },
    {
      "cell_type": "code",
      "source": [
        "#Most common mother's occupations among neighbors of dropout students\n",
        "\n",
        "import pandas as pd\n",
        "from ucimlrepo import fetch_ucirepo\n",
        "from sklearn.preprocessing import StandardScaler\n",
        "from sklearn.neighbors import NearestNeighbors\n",
        "\n",
        "# Step 1: Load dataset\n",
        "dataset = fetch_ucirepo(id=697)\n",
        "X = dataset.data.features\n",
        "y = dataset.data.targets['Target']  # 'Dropout', 'Graduate', 'Enrolled'\n",
        "\n",
        "# Step 2: Combine features and target\n",
        "df = X.copy()\n",
        "df['Target'] = y\n",
        "\n",
        "# Step 3: Save raw Mjob column for later reference\n",
        "mjob_column = X[\"Mother's occupation\"].copy()\n",
        "\n",
        "# Step 4: One-hot encode features for KNN (excluding the target)\n",
        "X_encoded = pd.get_dummies(X, drop_first=True)\n",
        "\n",
        "# Step 5: Scale features (important for KNN distance)\n",
        "scaler = StandardScaler()\n",
        "X_scaled = scaler.fit_transform(X_encoded)\n",
        "\n",
        "# Step 6: Fit KNN model to full data\n",
        "knn = NearestNeighbors(n_neighbors=6)  # 1 self + 5 nearest neighbors\n",
        "knn.fit(X_scaled)\n",
        "\n",
        "# Step 7: Get indices of dropout students\n",
        "dropout_indices = df[df['Target'] == 'Dropout'].index\n",
        "\n",
        "# Step 8: Collect mother's jobs of neighbors (excluding self)\n",
        "mjob_neighbors = []\n",
        "\n",
        "for idx in dropout_indices:\n",
        "    distances, neighbor_idxs = knn.kneighbors([X_scaled[idx]])\n",
        "    for neighbor_idx in neighbor_idxs[0][1:]:  # Skip the first one (self)\n",
        "        mjob = mjob_column.iloc[neighbor_idx]  # Pull raw Mjob from original data\n",
        "        mjob_neighbors.append(mjob)\n",
        "\n",
        "# Step 9: Analyze the distribution of mother's jobs\n",
        "mjob_counts = pd.Series(mjob_neighbors).value_counts()\n",
        "\n",
        "# Step 10: Display the result\n",
        "print(\"Most common mother's occupations among neighbors of dropout students:\\n\")\n",
        "print(mjob_counts.head(5))"
      ],
      "metadata": {
        "colab": {
          "base_uri": "https://localhost:8080/"
        },
        "id": "R8ZFtbRKuvIJ",
        "outputId": "cfac3b57-e291-4762-9de6-7c21aa795e23"
      },
      "execution_count": 7,
      "outputs": [
        {
          "output_type": "stream",
          "name": "stdout",
          "text": [
            "Most common mother's occupations among neighbors of dropout students:\n",
            "\n",
            "9    2625\n",
            "4    1210\n",
            "5     813\n",
            "3     563\n",
            "2     501\n",
            "Name: count, dtype: int64\n"
          ]
        }
      ]
    },
    {
      "cell_type": "code",
      "source": [
        "print(df[df['Target'] == 'Dropout'][\"Mother's occupation\"].value_counts().head(5))\n",
        "print(\"\\n\")\n",
        "print(df[df['Target'] == 'Dropout'][\"Father's occupation\"].value_counts().head(5))\n",
        "print(\"\\n\")\n",
        "print(df[df['Target'] == 'Graduate'][\"Mother's occupation\"].value_counts().head(5))\n",
        "print(\"\\n\")\n",
        "print(df[df['Target'] == 'Graduate'][\"Father's occupation\"].value_counts().head(5))\n",
        "print(\"\\n\")\n",
        "print(df[df['Target'] == 'Enrolled'][\"Mother's occupation\"].value_counts().head(5))\n",
        "print(\"\\n\")\n",
        "print(df[df['Target'] == 'Enrolled'][\"Father's occupation\"].value_counts().head(5))\n",
        "\n",
        "#9 - Unskilled Workers\n",
        "#4 - Administrative staff\n",
        "#5 - Personal Services, Security and Safety Workers and Sellers\n",
        "#7 - Skilled Workers in Industry, Construction and Craftsmen\n",
        "#3 - Intermediate Level Technicians and Professions\n",
        "#2 - Specialists in Intellectual and Scientific Activities\n",
        "#0 - Student"
      ],
      "metadata": {
        "colab": {
          "base_uri": "https://localhost:8080/"
        },
        "id": "LR9x6B56j8SV",
        "outputId": "e8fe7801-7036-4c45-d6fa-44df188ffd85"
      },
      "execution_count": 8,
      "outputs": [
        {
          "output_type": "stream",
          "name": "stdout",
          "text": [
            "Mother's occupation\n",
            "9    490\n",
            "4    248\n",
            "5    156\n",
            "2    102\n",
            "0     99\n",
            "Name: count, dtype: int64\n",
            "\n",
            "\n",
            "Father's occupation\n",
            "9    323\n",
            "7    184\n",
            "5    148\n",
            "4    139\n",
            "3    114\n",
            "Name: count, dtype: int64\n",
            "\n",
            "\n",
            "Mother's occupation\n",
            "9    823\n",
            "4    422\n",
            "5    280\n",
            "3    177\n",
            "7    144\n",
            "Name: count, dtype: int64\n",
            "\n",
            "\n",
            "Father's occupation\n",
            "9    524\n",
            "7    371\n",
            "5    261\n",
            "3    207\n",
            "4    173\n",
            "Name: count, dtype: int64\n",
            "\n",
            "\n",
            "Mother's occupation\n",
            "9    264\n",
            "4    147\n",
            "5     94\n",
            "3     79\n",
            "2     78\n",
            "Name: count, dtype: int64\n",
            "\n",
            "\n",
            "Father's occupation\n",
            "9    163\n",
            "7    111\n",
            "5    107\n",
            "4     74\n",
            "3     63\n",
            "Name: count, dtype: int64\n"
          ]
        }
      ]
    },
    {
      "cell_type": "code",
      "source": [
        "print(df[df['Target'] == 'Enrolled'][\"Mother's qualification\"].value_counts().head(5))\n",
        "print(\"\\n\")\n",
        "print(df[df['Target'] == 'Enrolled'][\"Father's qualification\"].value_counts().head(5))\n",
        "print(\"\\n\")\n",
        "print(df[df['Target'] == 'Graduate'][\"Mother's qualification\"].value_counts().head(5))\n",
        "print(\"\\n\")\n",
        "print(df[df['Target'] == 'Graduate'][\"Father's qualification\"].value_counts().head(5))\n",
        "print(\"\\n\")\n",
        "print(df[df['Target'] == 'Enrolled'][\"Mother's qualification\"].value_counts().head(5))\n",
        "print(\"\\n\")\n",
        "print(df[df['Target'] == 'Enrolled'][\"Father's qualification\"].value_counts().head(5))\n",
        "\n",
        "#37 - Basic education 1st cycle (4th/5th year) or equiv\n",
        "# 1 - Secondary Education - 12th Year of Schooling or Eq.\n",
        "#19 - Basic Education 3rd Cycle (9th/10th/11th Year) or Equiv.\n",
        "#38 - Basic Education 2nd Cycle (6th/7th/8th Year) or Equiv."
      ],
      "metadata": {
        "colab": {
          "base_uri": "https://localhost:8080/"
        },
        "id": "BW1HYrSPjBWZ",
        "outputId": "a8ad994f-6ae9-4b4f-fb30-60e4273d663e"
      },
      "execution_count": 9,
      "outputs": [
        {
          "output_type": "stream",
          "name": "stdout",
          "text": [
            "Mother's qualification\n",
            "1     204\n",
            "19    176\n",
            "37    169\n",
            "3     101\n",
            "38     91\n",
            "Name: count, dtype: int64\n",
            "\n",
            "\n",
            "Father's qualification\n",
            "37    199\n",
            "19    183\n",
            "1     172\n",
            "38    127\n",
            "3      62\n",
            "Name: count, dtype: int64\n",
            "\n",
            "\n",
            "Mother's qualification\n",
            "1     565\n",
            "19    506\n",
            "37    457\n",
            "38    331\n",
            "3     198\n",
            "Name: count, dtype: int64\n",
            "\n",
            "\n",
            "Father's qualification\n",
            "37    578\n",
            "19    521\n",
            "1     451\n",
            "38    408\n",
            "3     130\n",
            "Name: count, dtype: int64\n",
            "\n",
            "\n",
            "Mother's qualification\n",
            "1     204\n",
            "19    176\n",
            "37    169\n",
            "3     101\n",
            "38     91\n",
            "Name: count, dtype: int64\n",
            "\n",
            "\n",
            "Father's qualification\n",
            "37    199\n",
            "19    183\n",
            "1     172\n",
            "38    127\n",
            "3      62\n",
            "Name: count, dtype: int64\n"
          ]
        }
      ]
    },
    {
      "cell_type": "code",
      "source": [
        "import pandas as pd\n",
        "from ucimlrepo import fetch_ucirepo\n",
        "from sklearn.preprocessing import StandardScaler\n",
        "from sklearn.neighbors import NearestNeighbors\n",
        "import matplotlib.pyplot as plt\n",
        "\n",
        "# Step 1: Load dataset\n",
        "dataset = fetch_ucirepo(id=697)\n",
        "X = dataset.data.features\n",
        "y = dataset.data.targets['Target']  # 'Dropout', 'Graduate', 'Enrolled'\n",
        "\n",
        "# Step 2: Combine features and target\n",
        "df = X.copy()\n",
        "df['Target'] = y\n",
        "\n",
        "# Step 3: Save raw Mjob column for later reference\n",
        "mjob_column = X[\"Mother's qualification\"].copy()\n",
        "\n",
        "# Step 4: One-hot encode features for KNN\n",
        "X_encoded = pd.get_dummies(X, drop_first=True)\n",
        "\n",
        "# Step 5: Scale features\n",
        "scaler = StandardScaler()\n",
        "X_scaled = scaler.fit_transform(X_encoded)\n",
        "\n",
        "# Step 6: Fit KNN model\n",
        "knn = NearestNeighbors(n_neighbors=6)  # 1 self + 5 neighbors\n",
        "knn.fit(X_scaled)\n",
        "\n",
        "# Function to collect Mjob info from neighbors\n",
        "def get_mother_job_neighbors(group_label):\n",
        "    indices = df[df['Target'] == group_label].index\n",
        "    mjob_neighbors = []\n",
        "\n",
        "    for idx in indices:\n",
        "        distances, neighbor_idxs = knn.kneighbors([X_scaled[idx]])\n",
        "        for neighbor_idx in neighbor_idxs[0][1:]:  # skip self\n",
        "            mjob = mjob_column.iloc[neighbor_idx]\n",
        "            mjob_neighbors.append(mjob)\n",
        "\n",
        "    return pd.Series(mjob_neighbors).value_counts()\n",
        "\n",
        "# Step 7: Get distributions for Enrolled and Graduate students\n",
        "enrolled_mjobs = get_mother_job_neighbors('Enrolled')\n",
        "graduate_mjobs = get_mother_job_neighbors('Graduate')\n",
        "\n",
        "# Step 8: Show the results\n",
        "print(\"👩‍🎓 Most common mother's occupations among neighbors of Enrolled students:\\n\")\n",
        "print(enrolled_mjobs)\n",
        "\n",
        "print(\"\\n🎓 Most common mother's occupations among neighbors of Graduate students:\\n\")\n",
        "print(graduate_mjobs)\n",
        "\n",
        "# Optional: Visualize side by side\n",
        "comparison_df = pd.DataFrame({\n",
        "    'Enrolled Neighbors': enrolled_mjobs,\n",
        "    'Graduate Neighbors': graduate_mjobs\n",
        "}).fillna(0)\n",
        "\n",
        "comparison_df.plot(kind='bar', figsize=(12, 6), colormap='Pastel1')\n",
        "plt.title(\"Mother's Qualification Among Neighbors\")\n",
        "plt.ylabel(\"Count\")\n",
        "plt.xticks(rotation=45)\n",
        "plt.tight_layout()\n",
        "plt.show()"
      ],
      "metadata": {
        "colab": {
          "base_uri": "https://localhost:8080/",
          "height": 1000
        },
        "id": "9ihjYtv3-zrN",
        "outputId": "2b56b729-0629-4e28-f14d-ffc642629bd7"
      },
      "execution_count": 10,
      "outputs": [
        {
          "output_type": "stream",
          "name": "stdout",
          "text": [
            "👩‍🎓 Most common mother's occupations among neighbors of Enrolled students:\n",
            "\n",
            "1     1015\n",
            "19     906\n",
            "37     796\n",
            "3      463\n",
            "38     440\n",
            "2       99\n",
            "34      78\n",
            "4       67\n",
            "12      41\n",
            "5       27\n",
            "39      11\n",
            "9        5\n",
            "36       4\n",
            "35       3\n",
            "44       3\n",
            "40       2\n",
            "41       2\n",
            "29       2\n",
            "6        2\n",
            "22       1\n",
            "30       1\n",
            "43       1\n",
            "27       1\n",
            "Name: count, dtype: int64\n",
            "\n",
            "🎓 Most common mother's occupations among neighbors of Graduate students:\n",
            "\n",
            "19    2835\n",
            "1     2573\n",
            "37    2298\n",
            "38    1514\n",
            "3     1086\n",
            "2      218\n",
            "34     156\n",
            "4      123\n",
            "12     105\n",
            "5       45\n",
            "40      21\n",
            "30      10\n",
            "41       9\n",
            "11       8\n",
            "10       7\n",
            "9        6\n",
            "29       5\n",
            "6        5\n",
            "43       5\n",
            "39       4\n",
            "36       3\n",
            "22       3\n",
            "35       3\n",
            "14       2\n",
            "42       1\n",
            "Name: count, dtype: int64\n"
          ]
        },
        {
          "output_type": "display_data",
          "data": {
            "text/plain": [
              "<Figure size 1200x600 with 1 Axes>"
            ],
            "image/png": "[encoded data removed]"
          },
          "metadata": {}
        }
      ]
    },
    {
      "cell_type": "code",
      "source": [
        "import pandas as pd\n",
        "from ucimlrepo import fetch_ucirepo\n",
        "from sklearn.linear_model import LogisticRegression\n",
        "from sklearn.preprocessing import StandardScaler\n",
        "from sklearn.model_selection import train_test_split\n",
        "from sklearn.metrics import classification_report\n",
        "\n",
        "# Step 1: Load dataset\n",
        "dataset = fetch_ucirepo(id=697)\n",
        "X = dataset.data.features\n",
        "y = dataset.data.targets['Target']  # 'Dropout', 'Graduate', 'Enrolled'\n",
        "\n",
        "# Step 2: Convert target to binary (e.g., Dropout = 1, others = 0)\n",
        "y_binary = y.apply(lambda x: 1 if x == 'Dropout' else 0)\n",
        "\n",
        "# Step 3: Keep relevant academic performance columns\n",
        "# Assuming these are present in the dataset\n",
        "academic_cols = ['Admission grade', 'Curricular units 1st sem (grade)', 'Curricular units 2nd sem (grade)']\n",
        "\n",
        "# Step 4: One-hot encode categorical variables\n",
        "X_encoded = pd.get_dummies(X, drop_first=True)\n",
        "\n",
        "# Step 5: Ensure academic columns are included\n",
        "for col in academic_cols:\n",
        "    if col not in X_encoded.columns:\n",
        "        X_encoded[col] = X[col]\n",
        "\n",
        "# Step 6: Scale features\n",
        "scaler = StandardScaler()\n",
        "X_scaled = scaler.fit_transform(X_encoded)\n",
        "\n",
        "# Step 7: Split data\n",
        "X_train, X_test, y_train, y_test = train_test_split(X_scaled, y_binary, test_size=0.2, random_state=42)\n",
        "\n",
        "# Step 8: Train logistic regression\n",
        "logreg = LogisticRegression(max_iter=1000)\n",
        "logreg.fit(X_train, y_train)\n",
        "\n",
        "# Step 9: Model evaluation\n",
        "y_pred = logreg.predict(X_test)\n",
        "print(\"Classification Report:\")\n",
        "print(classification_report(y_test, y_pred))\n",
        "\n",
        "# Step 10: Feature coefficients\n",
        "coef_df = pd.DataFrame({\n",
        "    'Feature': X_encoded.columns,\n",
        "    'Coefficient': logreg.coef_[0]\n",
        "}).sort_values(by='Coefficient', key=abs, ascending=False)\n",
        "\n",
        "print(\"\\n📊 Top Influential Features (Logistic Regression Coefficients):\")\n",
        "print(coef_df.head(10))"
      ],
      "metadata": {
        "colab": {
          "base_uri": "https://localhost:8080/"
        },
        "id": "yn0nOBuUzK-5",
        "outputId": "eca9d8a0-cb84-4c1e-8abc-6c64cc764c9a"
      },
      "execution_count": 11,
      "outputs": [
        {
          "output_type": "stream",
          "name": "stdout",
          "text": [
            "Classification Report:\n",
            "              precision    recall  f1-score   support\n",
            "\n",
            "           0       0.86      0.95      0.90       569\n",
            "           1       0.88      0.72      0.79       316\n",
            "\n",
            "    accuracy                           0.87       885\n",
            "   macro avg       0.87      0.83      0.85       885\n",
            "weighted avg       0.87      0.87      0.86       885\n",
            "\n",
            "\n",
            "📊 Top Influential Features (Logistic Regression Coefficients):\n",
            "                                Feature  Coefficient\n",
            "30  Curricular units 2nd sem (approved)    -1.866441\n",
            "28  Curricular units 2nd sem (enrolled)     1.114171\n",
            "24  Curricular units 1st sem (approved)    -0.976295\n",
            "16              Tuition fees up to date    -0.762553\n",
            "27  Curricular units 2nd sem (credited)     0.484580\n",
            "21  Curricular units 1st sem (credited)     0.420171\n",
            "19                    Age at enrollment     0.382771\n",
            "31     Curricular units 2nd sem (grade)    -0.368263\n",
            "10                  Mother's occupation    -0.336134\n",
            "25     Curricular units 1st sem (grade)     0.291597\n"
          ]
        }
      ]
    },
    {
      "cell_type": "code",
      "source": [
        "\n",
        "\n",
        "# Step 10: View logistic regression coefficients\n",
        "coefficients = pd.DataFrame({\n",
        "    'Feature': X_encoded.columns,\n",
        "    'Coefficient': logreg.coef_[0]\n",
        "})\n",
        "\n",
        "# Sort by absolute value to see most influential features\n",
        "coefficients['AbsCoefficient'] = coefficients['Coefficient'].abs()\n",
        "coefficients_sorted = coefficients.sort_values(by='AbsCoefficient', ascending=False)\n",
        "\n",
        "print(coefficients_sorted[['Feature', 'Coefficient']])"
      ],
      "metadata": {
        "colab": {
          "base_uri": "https://localhost:8080/"
        },
        "id": "5jBgeqvQuAmw",
        "outputId": "aa3bb3e8-86e9-4ce0-b04d-a6aa0f3d1de7"
      },
      "execution_count": 12,
      "outputs": [
        {
          "output_type": "stream",
          "name": "stdout",
          "text": [
            "                                           Feature  Coefficient\n",
            "30             Curricular units 2nd sem (approved)    -1.866441\n",
            "28             Curricular units 2nd sem (enrolled)     1.114171\n",
            "24             Curricular units 1st sem (approved)    -0.976295\n",
            "16                         Tuition fees up to date    -0.762553\n",
            "27             Curricular units 2nd sem (credited)     0.484580\n",
            "21             Curricular units 1st sem (credited)     0.420171\n",
            "19                               Age at enrollment     0.382771\n",
            "31                Curricular units 2nd sem (grade)    -0.368263\n",
            "10                             Mother's occupation    -0.336134\n",
            "25                Curricular units 1st sem (grade)     0.291597\n",
            "20                                   International    -0.290706\n",
            "3                                           Course     0.248526\n",
            "7                                      Nacionality     0.239303\n",
            "33                               Unemployment rate     0.220939\n",
            "18                              Scholarship holder    -0.215602\n",
            "22             Curricular units 1st sem (enrolled)    -0.211165\n",
            "13                                       Displaced     0.171538\n",
            "15                                          Debtor     0.159917\n",
            "8                           Mother's qualification     0.157318\n",
            "29          Curricular units 2nd sem (evaluations)    -0.124109\n",
            "5                           Previous qualification    -0.115783\n",
            "32  Curricular units 2nd sem (without evaluations)    -0.111165\n",
            "17                                          Gender     0.103634\n",
            "0                                   Marital Status    -0.084377\n",
            "2                                Application order     0.084017\n",
            "9                           Father's qualification    -0.069639\n",
            "11                             Father's occupation     0.061719\n",
            "34                                  Inflation rate     0.059218\n",
            "12                                 Admission grade    -0.049716\n",
            "26  Curricular units 1st sem (without evaluations)    -0.043163\n",
            "23          Curricular units 1st sem (evaluations)    -0.042691\n",
            "6                   Previous qualification (grade)     0.035160\n",
            "1                                 Application mode    -0.027996\n",
            "14                       Educational special needs     0.027122\n",
            "35                                             GDP     0.006005\n",
            "4                       Daytime/evening attendance    -0.003032\n"
          ]
        }
      ]
    },
    {
      "cell_type": "code",
      "source": [
        "from sklearn.ensemble import RandomForestClassifier\n",
        "\n",
        "# Train Random Forest on the same encoded data\n",
        "rf = RandomForestClassifier(random_state=42)\n",
        "rf.fit(X_train, y_train)\n",
        "\n",
        "# Feature importance\n",
        "rf_importance = pd.Series(rf.feature_importances_, index=X_encoded.columns).sort_values(ascending=False)\n",
        "\n",
        "print(\"\\n🌲 Top Influential Features (Random Forest):\")\n",
        "print(rf_importance.head(10))"
      ],
      "metadata": {
        "colab": {
          "base_uri": "https://localhost:8080/"
        },
        "id": "AuldFje1wTQ_",
        "outputId": "63510885-644b-4c1d-8ad8-02fe667ee39a"
      },
      "execution_count": 13,
      "outputs": [
        {
          "output_type": "stream",
          "name": "stdout",
          "text": [
            "\n",
            "🌲 Top Influential Features (Random Forest):\n",
            "Curricular units 2nd sem (approved)       0.153905\n",
            "Curricular units 2nd sem (grade)          0.141506\n",
            "Curricular units 1st sem (approved)       0.080268\n",
            "Curricular units 1st sem (grade)          0.063830\n",
            "Tuition fees up to date                   0.063040\n",
            "Age at enrollment                         0.040424\n",
            "Curricular units 2nd sem (evaluations)    0.038035\n",
            "Admission grade                           0.035900\n",
            "Previous qualification (grade)            0.033026\n",
            "Course                                    0.032665\n",
            "dtype: float64\n"
          ]
        }
      ]
    }
  ]
}