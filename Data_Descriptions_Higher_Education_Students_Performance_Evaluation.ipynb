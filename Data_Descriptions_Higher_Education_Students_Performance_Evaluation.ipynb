{
  "nbformat": 4,
  "nbformat_minor": 0,
  "metadata": {
    "colab": {
      "provenance": []
    },
    "kernelspec": {
      "name": "python3",
      "display_name": "Python 3"
    },
    "language_info": {
      "name": "python"
    }
  },
  "cells": [
    {
      "cell_type": "code",
      "execution_count": null,
      "metadata": {
        "colab": {
          "base_uri": "https://localhost:8080/"
        },
        "id": "OJKQRyTxSWnk",
        "outputId": "c8a4fc83-bf2a-41e9-c68b-d6ee3d434a2b"
      },
      "outputs": [
        {
          "output_type": "stream",
          "name": "stdout",
          "text": [
            "Collecting ucimlrepo\n",
            "  Downloading ucimlrepo-0.0.7-py3-none-any.whl.metadata (5.5 kB)\n",
            "Requirement already satisfied: pandas>=1.0.0 in /usr/local/lib/python3.11/dist-packages (from ucimlrepo) (2.2.2)\n",
            "Requirement already satisfied: certifi>=2020.12.5 in /usr/local/lib/python3.11/dist-packages (from ucimlrepo) (2025.4.26)\n",
            "Requirement already satisfied: numpy>=1.23.2 in /usr/local/lib/python3.11/dist-packages (from pandas>=1.0.0->ucimlrepo) (2.0.2)\n",
            "Requirement already satisfied: python-dateutil>=2.8.2 in /usr/local/lib/python3.11/dist-packages (from pandas>=1.0.0->ucimlrepo) (2.9.0.post0)\n",
            "Requirement already satisfied: pytz>=2020.1 in /usr/local/lib/python3.11/dist-packages (from pandas>=1.0.0->ucimlrepo) (2025.2)\n",
            "Requirement already satisfied: tzdata>=2022.7 in /usr/local/lib/python3.11/dist-packages (from pandas>=1.0.0->ucimlrepo) (2025.2)\n",
            "Requirement already satisfied: six>=1.5 in /usr/local/lib/python3.11/dist-packages (from python-dateutil>=2.8.2->pandas>=1.0.0->ucimlrepo) (1.17.0)\n",
            "Downloading ucimlrepo-0.0.7-py3-none-any.whl (8.0 kB)\n",
            "Installing collected packages: ucimlrepo\n",
            "Successfully installed ucimlrepo-0.0.7\n"
          ]
        }
      ],
      "source": [
        "pip install ucimlrepo"
      ]
    },
    {
      "cell_type": "code",
      "source": [
        "#Feature Types and Missing Values\n",
        "\n",
        "from ucimlrepo import fetch_ucirepo\n",
        "\n",
        "#Access to dataset\n",
        "higher_education_students_performance_evaluation = fetch_ucirepo(id=856)\n",
        "\n",
        "#Data as pandas dataframes\n",
        "X = higher_education_students_performance_evaluation.data.features\n",
        "y = higher_education_students_performance_evaluation.data.targets\n",
        "\n",
        "#Number of rows and columns\n",
        "print(\"Features shape (X):\", X.shape)\n",
        "print(\"Target shape (y):\", y.shape)\n",
        "\n",
        "#Total number of samples (rows)\n",
        "print(\"Number of samples:\", X.shape[0])\n",
        "\n",
        "# Total number of features (columns)\n",
        "print(\"Number of features:\", X.shape[1])\n",
        "\n",
        "#Metadata - General info about the dataset\n",
        "print(higher_education_students_performance_evaluation.metadata)\n",
        "\n",
        "#Variable information including missing value check\n",
        "print(higher_education_students_performance_evaluation.variables)"
      ],
      "metadata": {
        "colab": {
          "base_uri": "https://localhost:8080/"
        },
        "id": "wIWVKftZzxsy",
        "outputId": "ff1956df-b5fc-42e8-8dbf-002047e63cc6"
      },
      "execution_count": null,
      "outputs": [
        {
          "output_type": "stream",
          "name": "stdout",
          "text": [
            "Features shape (X): (145, 31)\n",
            "Target shape (y): (145, 1)\n",
            "Number of samples: 145\n",
            "Number of features: 31\n",
            "{'uci_id': 856, 'name': 'Higher Education Students Performance Evaluation', 'repository_url': 'https://archive.ics.uci.edu/dataset/856/higher+education+students+performance+evaluation', 'data_url': 'https://archive.ics.uci.edu/static/public/856/data.csv', 'abstract': \"The data was collected from the Faculty of Engineering and Faculty of Educational Sciences students in 2019. The purpose is to predict students' end-of-term performances using ML techniques.\", 'area': 'Social Science', 'tasks': ['Classification'], 'characteristics': ['Multivariate'], 'num_instances': 145, 'num_features': 31, 'feature_types': ['Integer'], 'demographics': ['Age', 'Sex', 'Education Level', 'Marital Status', 'Income', 'Occupation'], 'target_col': ['OUTPUT Grade'], 'index_col': ['Student ID'], 'has_missing_values': 'no', 'missing_values_symbol': None, 'year_of_dataset_creation': 2019, 'last_updated': 'Thu Mar 07 2024', 'dataset_doi': '10.24432/C51G82', 'creators': ['Nevriye Yilmaz', 'Boran Şekeroğlu'], 'intro_paper': {'ID': 267, 'type': 'NATIVE', 'title': 'Student Performance Classification Using Artificial Intelligence Techniques', 'authors': 'N. Yilmaz, B. Şekeroğlu', 'venue': 'Advances in Intelligent Systems and Computing, vol 1095', 'year': 2019, 'journal': None, 'DOI': None, 'URL': 'https://www.semanticscholar.org/paper/d2540a82aea0f5acef91c8b4f92295ff8f312404', 'sha': None, 'corpus': None, 'arxiv': None, 'mag': None, 'acl': None, 'pmid': None, 'pmcid': None}, 'additional_info': {'summary': '1-10 of the data are the personal questions, 11-16. questions include family questions, and the remaining questions include education habits.', 'purpose': \"The purpose is to predict students' end-of-term performances using ML techniques.\", 'funded_by': None, 'instances_represent': None, 'recommended_data_splits': None, 'sensitive_data': None, 'preprocessing_description': None, 'variable_info': None, 'citation': 'YÄ±lmaz N., Sekeroglu B. (2020) Student Performance Classification Using Artificial Intelligence Techniques. In: Aliev R., Kacprzyk J., Pedrycz W., Jamshidi M., Babanli M., Sadikoglu F. (eds) 10th International Conference on Theory and Application of Soft Computing, Computing with Words and Perceptions - ICSCCW-2019. ICSCCW 2019. Advances in Intelligent Systems and Computing, vol 1095. Springer, Cham.'}}\n",
            "                                                 name     role         type  \\\n",
            "0                                         Student Age  Feature  Categorical   \n",
            "1                                                 Sex  Feature       Binary   \n",
            "2                          Graduated high-school type  Feature  Categorical   \n",
            "3                                    Scholarship type  Feature  Categorical   \n",
            "4                                     Additional work  Feature       Binary   \n",
            "5                 Regular artistic or sports activity  Feature       Binary   \n",
            "6                               Do you have a partner  Feature       Binary   \n",
            "7                           Total salary if available  Feature  Categorical   \n",
            "8                    Transportation to the university  Feature  Categorical   \n",
            "9                         Accomodation type in Cyprus  Feature  Categorical   \n",
            "10                                 Mother's education  Feature  Categorical   \n",
            "11                                 Father's education  Feature  Categorical   \n",
            "12          Number of sisters/brothers (if available)  Feature      Integer   \n",
            "13                                    Parental status  Feature  Categorical   \n",
            "14                                Mother's occupation  Feature  Categorical   \n",
            "15                                Father's occupation  Feature  Categorical   \n",
            "16                                 Weekly study hours  Feature  Categorical   \n",
            "17  Reading frequency (non-scientific books/journals)  Feature  Categorical   \n",
            "18      Reading frequency (scientific books/journals)  Feature  Categorical   \n",
            "19  Attendance to the seminars/conferences related...  Feature       Binary   \n",
            "20  Impact of your projects/activities on your suc...  Feature  Categorical   \n",
            "21                              Attendance to classes  Feature  Categorical   \n",
            "22                     Preparation to midterm exams 1  Feature  Categorical   \n",
            "23                     Preparation to midterm exams 2  Feature  Categorical   \n",
            "24                            Taking notes in classes  Feature  Categorical   \n",
            "25                               Listening in classes  Feature  Categorical   \n",
            "26  Discussion improves my interest and success in...  Feature  Categorical   \n",
            "27                                     Flip-classroom  Feature  Categorical   \n",
            "28  Cumulative grade point average in the last sem...  Feature  Categorical   \n",
            "29  Expected Cumulative grade point average in the...  Feature  Categorical   \n",
            "30                                          Course ID  Feature      Integer   \n",
            "31                                       OUTPUT Grade   Target  Categorical   \n",
            "32                                         Student ID       ID  Categorical   \n",
            "\n",
            "        demographic                                        description units  \\\n",
            "0               Age                    1: 18-21, 2: 22-25, 3: above 26  None   \n",
            "1               Sex                                 1: female, 2: male  None   \n",
            "2   Education Level                     1: private, 2: state, 3: other  None   \n",
            "3              None           1: None, 2: 25%, 3: 50%, 4: 75%, 5: Full  None   \n",
            "4              None                                      1: Yes, 2: No  None   \n",
            "5              None                                      1: Yes, 2: No  None   \n",
            "6    Marital Status                                      1: Yes, 2: No  None   \n",
            "7            Income  1: USD 135-200, 2: USD 201-270, 3: USD 271-340...  None   \n",
            "8              None  1: Bus, 2: Private car/taxi, 3: bicycle, 4: Other  None   \n",
            "9              None  1: rental, 2: dormitory, 3: with family, 4: Other  None   \n",
            "10  Education Level  1: primary school, 2: secondary school, 3: hig...  None   \n",
            "11  Education Level  1: primary school, 2: secondary school, 3: hig...  None   \n",
            "12             None             1: 1, 2:, 2, 3: 3, 4: 4, 5: 5 or above  None   \n",
            "13   Marital Status  1: married, 2: divorced, 3: died - one of them...  None   \n",
            "14       Occupation  1: retired, 2: housewife, 3: government office...  None   \n",
            "15       Occupation  1: retired, 2: housewife, 3: government office...  None   \n",
            "16             None  1: None, 2: <5 hours, 3: 6-10 hours, 4: 11-20 ...  None   \n",
            "17             None                    1: None, 2: Sometimes, 3: Often  None   \n",
            "18             None                    1: None, 2: Sometimes, 3: Often  None   \n",
            "19             None                                      1: Yes, 2: No  None   \n",
            "20             None               1: positive, 2: negative, 3: neutral  None   \n",
            "21             None                  1: always, 2: sometimes, 3: never  None   \n",
            "22             None       1: alone, 2: with friends, 3: not applicable  None   \n",
            "23             None  1: closest date to the exam, 2: regularly duri...  None   \n",
            "24             None                  1: never, 2: sometimes, 3: always  None   \n",
            "25             None                  1: never, 2: sometimes, 3: always  None   \n",
            "26             None                  1: never, 2: sometimes, 3: always  None   \n",
            "27             None        1: not useful, 2: useful, 3: not applicable  None   \n",
            "28             None  1: <2.00, 2: 2.00-2.49, 3: 2.50-2.99, 4: 3.00-...  None   \n",
            "29             None  1: <2.00, 2: 2.00-2.49, 3: 2.50-2.99, 4: 3.00-...  None   \n",
            "30             None                                               None  None   \n",
            "31             None  0: Fail, 1: DD, 2: DC, 3: CC, 4: CB, 5: BB, 6:...  None   \n",
            "32             None                                               None  None   \n",
            "\n",
            "   missing_values  \n",
            "0              no  \n",
            "1              no  \n",
            "2              no  \n",
            "3              no  \n",
            "4              no  \n",
            "5              no  \n",
            "6              no  \n",
            "7              no  \n",
            "8              no  \n",
            "9              no  \n",
            "10             no  \n",
            "11             no  \n",
            "12             no  \n",
            "13             no  \n",
            "14             no  \n",
            "15             no  \n",
            "16             no  \n",
            "17             no  \n",
            "18             no  \n",
            "19             no  \n",
            "20             no  \n",
            "21             no  \n",
            "22             no  \n",
            "23             no  \n",
            "24             no  \n",
            "25             no  \n",
            "26             no  \n",
            "27             no  \n",
            "28             no  \n",
            "29             no  \n",
            "30             no  \n",
            "31             no  \n",
            "32             no  \n"
          ]
        }
      ]
    },
    {
      "cell_type": "code",
      "source": [
        "# Mean and Correlation\n",
        "\n",
        "# Select continuous and integer columns\n",
        "import pandas as pd\n",
        "\n",
        "numeric_X = X.select_dtypes(include=['int64', 'float64'])\n",
        "\n",
        "# Calculate mean and standard deviation\n",
        "means = numeric_X.mean()\n",
        "stds = numeric_X.std()\n",
        "\n",
        "# Combine into one DataFrame\n",
        "summary = pd.DataFrame({\n",
        "    'Mean': means,\n",
        "    'Standard Deviation': stds\n",
        "})\n",
        "\n",
        "# Display the summary\n",
        "print(\"Mean and Standard Deviation of Each Feature:\")\n",
        "print(summary)"
      ],
      "metadata": {
        "colab": {
          "base_uri": "https://localhost:8080/"
        },
        "id": "16mevFhs26FZ",
        "outputId": "77e70872-6236-4ac1-abad-e12e20c12615"
      },
      "execution_count": null,
      "outputs": [
        {
          "output_type": "stream",
          "name": "stdout",
          "text": [
            "Mean and Standard Deviation of Each Feature:\n",
            "                                                        Mean  \\\n",
            "Student Age                                         1.620690   \n",
            "Sex                                                 1.600000   \n",
            "Graduated high-school type                          1.944828   \n",
            "Scholarship type                                    3.572414   \n",
            "Additional work                                     1.662069   \n",
            "Regular artistic or sports activity                 1.600000   \n",
            "Do you have a partner                               1.579310   \n",
            "Total salary if available                           1.627586   \n",
            "Transportation to the university                    1.620690   \n",
            "Accomodation type in Cyprus                         1.731034   \n",
            "Mother's education                                  2.282759   \n",
            "Father's education                                  2.634483   \n",
            "Number of sisters/brothers (if available)           2.806897   \n",
            "Parental status                                     1.172414   \n",
            "Mother's occupation                                 2.358621   \n",
            "Father's occupation                                 2.806897   \n",
            "Weekly study hours                                  2.200000   \n",
            "Reading frequency (non-scientific books/journals)   1.944828   \n",
            "Reading frequency (scientific books/journals)       2.013793   \n",
            "Attendance to the seminars/conferences related ...  1.213793   \n",
            "Impact of your projects/activities on your success  1.206897   \n",
            "Attendance to classes                               1.241379   \n",
            "Preparation to midterm exams 1                      1.337931   \n",
            "Preparation to midterm exams 2                      1.165517   \n",
            "Taking notes in classes                             2.544828   \n",
            "Listening in classes                                2.055172   \n",
            "Discussion improves my interest and success in ...  2.393103   \n",
            "Flip-classroom                                      1.806897   \n",
            "Cumulative grade point average in the last seme...  3.124138   \n",
            "Expected Cumulative grade point average in the ...  2.724138   \n",
            "Course ID                                           4.131034   \n",
            "\n",
            "                                                    Standard Deviation  \n",
            "Student Age                                                   0.613154  \n",
            "Sex                                                           0.491596  \n",
            "Graduated high-school type                                    0.537216  \n",
            "Scholarship type                                              0.805750  \n",
            "Additional work                                               0.474644  \n",
            "Regular artistic or sports activity                           0.491596  \n",
            "Do you have a partner                                         0.495381  \n",
            "Total salary if available                                     1.020245  \n",
            "Transportation to the university                              1.061112  \n",
            "Accomodation type in Cyprus                                   0.783999  \n",
            "Mother's education                                            1.223062  \n",
            "Father's education                                            1.147544  \n",
            "Number of sisters/brothers (if available)                     1.360640  \n",
            "Parental status                                               0.490816  \n",
            "Mother's occupation                                           0.805156  \n",
            "Father's occupation                                           1.329664  \n",
            "Weekly study hours                                            0.917424  \n",
            "Reading frequency (non-scientific books/journals)             0.562476  \n",
            "Reading frequency (scientific books/journals)                 0.539884  \n",
            "Attendance to the seminars/conferences related ...            0.411404  \n",
            "Impact of your projects/activities on your success            0.588035  \n",
            "Attendance to classes                                         0.429403  \n",
            "Preparation to midterm exams 1                                0.614870  \n",
            "Preparation to midterm exams 2                                0.408483  \n",
            "Taking notes in classes                                       0.564940  \n",
            "Listening in classes                                          0.674736  \n",
            "Discussion improves my interest and success in ...            0.604343  \n",
            "Flip-classroom                                                0.810492  \n",
            "Cumulative grade point average in the last seme...            1.301083  \n",
            "Expected Cumulative grade point average in the ...            0.916536  \n",
            "Course ID                                                     3.260145  \n"
          ]
        }
      ]
    },
    {
      "cell_type": "code",
      "source": [
        "#Target Variable Distribution - Distribution of students' cumulative grades\n",
        "\n",
        "import pandas as pd\n",
        "import matplotlib.pyplot as plt\n",
        "from ucimlrepo import fetch_ucirepo\n",
        "\n",
        "# Count the appearance of each unique value in 'OUTPUT Grade'column\n",
        "counts = X['Cumulative grade point average in the last semester (/4.00)'].value_counts()\n",
        "print(\"Distribution of 'Output Grade':\")\n",
        "print(counts)\n",
        "\n",
        "# Plot the distribution\n",
        "counts.plot(kind='bar', color='skyblue')\n",
        "plt.title(\"Distribution of 'Output Grade'\")\n",
        "plt.xlabel(\"Grade\")\n",
        "plt.ylabel(\"Count\")\n",
        "plt.show()"
      ],
      "metadata": {
        "colab": {
          "base_uri": "https://localhost:8080/",
          "height": 606
        },
        "id": "96TnBjqj6pjQ",
        "outputId": "07a242da-dc3b-461d-8592-c58fb59d0d45"
      },
      "execution_count": null,
      "outputs": [
        {
          "output_type": "stream",
          "name": "stdout",
          "text": [
            "Distribution of 'Output Grade':\n",
            "Cumulative grade point average in the last semester (/4.00)\n",
            "4    40\n",
            "2    38\n",
            "3    25\n",
            "5    25\n",
            "1    17\n",
            "Name: count, dtype: int64\n"
          ]
        },
        {
          "output_type": "display_data",
          "data": {
            "text/plain": [
              "<Figure size 640x480 with 1 Axes>"
            ],
            "image/png": "[encoded data removed]"
          },
          "metadata": {}
        }
      ]
    },
    {
      "cell_type": "code",
      "source": [
        "# Preprocessing steps: turning categorical variables into continuous values\n",
        "# Average cumulative GPA in this dataset\n",
        "# Map categorical GPA to continuous values using midpoints\n",
        "\n",
        "\n",
        "gpa_mapping = {\n",
        "    1: 1.75,\n",
        "    2: 2.25,\n",
        "    3: 2.75,\n",
        "    4: 3.25,\n",
        "    5: 3.75\n",
        "}\n",
        "\n",
        "# Apply mapping\n",
        "X.loc[:, 'GPA_Continuous'] = X['Cumulative grade point average in the last semester (/4.00)'].map(gpa_mapping)\n",
        "\n",
        "# Calculate mean and standard deviation\n",
        "gpa_mean = X['GPA_Continuous'].mean()\n",
        "gpa_std = X['GPA_Continuous'].std()\n",
        "\n",
        "print(\"GPA Statistics in continuous values:\")\n",
        "print(f\"Mean: {gpa_mean:.2f}\")\n",
        "print(f\"Standard Deviation: {gpa_std:.2f}\")"
      ],
      "metadata": {
        "colab": {
          "base_uri": "https://localhost:8080/"
        },
        "id": "wh-mZoYw7Q0U",
        "outputId": "3a30e281-3f2b-48dd-8342-221e97492805"
      },
      "execution_count": null,
      "outputs": [
        {
          "output_type": "stream",
          "name": "stdout",
          "text": [
            "GPA Statistics in continuous values:\n",
            "Mean: 2.81\n",
            "Standard Deviation: 0.65\n"
          ]
        }
      ]
    },
    {
      "cell_type": "code",
      "source": [
        "#Average \"expected GPA in the graduation\" in this dataset\n",
        "#Map categorical GPA to continuous values using midpoints\n",
        "\n",
        "gpa_mapping = {\n",
        "    1: 0,\n",
        "    2: 2.5,\n",
        "    3: 8,\n",
        "    4: 15.5,\n",
        "    5: 25\n",
        "}\n",
        "\n",
        "# Apply mapping\n",
        "X.loc[:, 'GPA_Continuous'] = X['Expected Cumulative grade point average in the graduation (/4.00)'].map(gpa_mapping)\n",
        "\n",
        "# Calculate mean and standard deviation\n",
        "gpa_mean = X['GPA_Continuous'].mean()\n",
        "gpa_std = X['GPA_Continuous'].std()\n",
        "\n",
        "print(\"GPA Statistics in continuous values:\")\n",
        "print(f\"Mean: {gpa_mean:.2f}\")\n",
        "print(f\"Standard Deviation: {gpa_std:.2f}\")"
      ],
      "metadata": {
        "colab": {
          "base_uri": "https://localhost:8080/"
        },
        "id": "WXkyow02C_HO",
        "outputId": "650411d7-e560-4654-b55d-7bc94c821954"
      },
      "execution_count": null,
      "outputs": [
        {
          "output_type": "stream",
          "name": "stdout",
          "text": [
            "GPA Statistics in continuous values:\n",
            "Mean: 7.23\n",
            "Standard Deviation: 5.12\n"
          ]
        }
      ]
    },
    {
      "cell_type": "code",
      "source": [
        "#Average scholarship percentage in this dataset\n",
        "#Map categorical scholarship type to percentages using midpoints\n",
        "\n",
        "gpa_mapping = {\n",
        "    1: 0,\n",
        "    2: 0.25,\n",
        "    3: 0.5,\n",
        "    4: 0.75,\n",
        "    5: 1\n",
        "}\n",
        "\n",
        "# Apply mapping\n",
        "X.loc[:, 'Scholarship_type_continuous'] = X['Scholarship type'].map(gpa_mapping)\n",
        "\n",
        "# Calculate mean and standard deviation\n",
        "Scholarship_mean = X['Scholarship_type_continuous'].mean()\n",
        "Scholarship_std = X['Scholarship_type_continuous'].std()\n",
        "\n",
        "print(\"GPA Statistics in continuous values:\")\n",
        "print(f\"Mean: {Scholarship_mean:.2f}\")\n",
        "print(f\"Standard Deviation: {Scholarship_std:.2f}\")"
      ],
      "metadata": {
        "colab": {
          "base_uri": "https://localhost:8080/"
        },
        "id": "vmvrBvI7Erru",
        "outputId": "715940db-b53e-4a57-bcdf-5f51364a2228"
      },
      "execution_count": null,
      "outputs": [
        {
          "output_type": "stream",
          "name": "stdout",
          "text": [
            "GPA Statistics in continuous values:\n",
            "Mean: 0.64\n",
            "Standard Deviation: 0.20\n"
          ]
        }
      ]
    },
    {
      "cell_type": "code",
      "source": [
        "#Weekly hourly rates in this dataset\n",
        "#Map Weekly hourly rates using midpoints\n",
        "\n",
        "gpa_mapping = {\n",
        "    1: 0,\n",
        "    2: 2.5,\n",
        "    3: 8,\n",
        "    4: 15.5,\n",
        "    5: 25\n",
        "}\n",
        "\n",
        "# Apply mapping\n",
        "X.loc[:, 'Scholarship_type_continuous'] = X['Scholarship type'].map(gpa_mapping)\n",
        "\n",
        "# Calculate mean and standard deviation\n",
        "Scholarship_mean = X['Scholarship_type_continuous'].mean()\n",
        "Scholarship_std = X['Scholarship_type_continuous'].std()\n",
        "\n",
        "print(\"GPA Statistics in continuous values:\")\n",
        "print(f\"Mean: {Scholarship_mean:.2f}\")\n",
        "print(f\"Standard Deviation: {Scholarship_std:.2f}\")"
      ],
      "metadata": {
        "colab": {
          "base_uri": "https://localhost:8080/"
        },
        "id": "z9TKKOHoIbyR",
        "outputId": "db3841f6-4ad2-4f3c-bd17-78c1736303e6"
      },
      "execution_count": null,
      "outputs": [
        {
          "output_type": "stream",
          "name": "stdout",
          "text": [
            "GPA Statistics in continuous values:\n",
            "Mean: 12.70\n",
            "Standard Deviation: 6.43\n"
          ]
        }
      ]
    },
    {
      "cell_type": "code",
      "source": [
        "#Corrleation between each numeric feature to the target variable using Pearson correlation\n",
        "\n",
        "import pandas as pd\n",
        "from ucimlrepo import fetch_ucirepo\n",
        "from sklearn.preprocessing import LabelEncoder\n",
        "\n",
        "# Load dataset\n",
        "dataset = fetch_ucirepo(id=856)\n",
        "X = dataset.data.features\n",
        "y = dataset.data.targets\n",
        "\n",
        "# Encode target labels - converting categorical labels into numeric codes & turning the numpy array to a 1-dimensional array since LabelEncoder requires 1D input\n",
        "y_encoded = LabelEncoder().fit_transform(y.values.ravel())\n",
        "\n",
        "# Pearson correlation for numeric features\n",
        "numeric_cols = X.select_dtypes(include=['float64', 'int64']).columns\n",
        "correlation_df = X[numeric_cols].corrwith(pd.Series(y_encoded)).abs().sort_values(ascending=False).to_frame(name='Correlation')\n",
        "\n",
        "# Show results\n",
        "print(\"Pearson Correlation (Numeric Features):\\n\", correlation_df)"
      ],
      "metadata": {
        "colab": {
          "base_uri": "https://localhost:8080/"
        },
        "id": "B_McTgbRXm4P",
        "outputId": "dce1abb0-2d92-48da-fab7-8b9c833eee31"
      },
      "execution_count": null,
      "outputs": [
        {
          "output_type": "stream",
          "name": "stdout",
          "text": [
            "Pearson Correlation (Numeric Features):\n",
            "                                                     Correlation\n",
            "Sex                                                    0.335533\n",
            "Cumulative grade point average in the last seme...     0.315493\n",
            "Expected Cumulative grade point average in the ...     0.248588\n",
            "Impact of your projects/activities on your success     0.203273\n",
            "Reading frequency (non-scientific books/journals)      0.195617\n",
            "Attendance to the seminars/conferences related ...     0.184763\n",
            "Additional work                                        0.167445\n",
            "Total salary if available                              0.166352\n",
            "Transportation to the university                       0.156289\n",
            "Discussion improves my interest and success in ...     0.146547\n",
            "Course ID                                              0.142166\n",
            "Attendance to classes                                  0.139564\n",
            "Flip-classroom                                         0.110617\n",
            "Graduated high-school type                             0.104821\n",
            "Student Age                                            0.095251\n",
            "Listening in classes                                   0.085137\n",
            "Number of sisters/brothers (if available)              0.084470\n",
            "Preparation to midterm exams 2                         0.073783\n",
            "Parental status                                        0.066379\n",
            "Mother's education                                     0.066318\n",
            "Father's education                                     0.063504\n",
            "Regular artistic or sports activity                    0.062993\n",
            "Do you have a partner                                  0.051778\n",
            "Taking notes in classes                                0.044862\n",
            "Father's occupation                                    0.044268\n",
            "Weekly study hours                                     0.033065\n",
            "Mother's occupation                                    0.030747\n",
            "Scholarship type                                       0.023963\n",
            "Accomodation type in Cyprus                            0.023683\n",
            "Preparation to midterm exams 1                         0.014638\n",
            "Reading frequency (scientific books/journals)          0.003189\n"
          ]
        }
      ]
    }
  ]
}